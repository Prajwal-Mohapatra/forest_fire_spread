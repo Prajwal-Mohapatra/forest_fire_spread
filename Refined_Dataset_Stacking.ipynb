{
	"cells": [
		{
			"cell_type": "code",
			"execution_count": 1,
			"metadata": {
				"id": "kK8FYbGat1Eb"
			},
			"outputs": [],
			"source": [
				"# @title Installing Dependencies\n",
				"!pip install opendatasets rasterio --quiet"
			]
		},
		{
			"cell_type": "code",
			"execution_count": 2,
			"metadata": {
				"colab": {
					"base_uri": "https://localhost:8080/"
				},
				"id": "WTJtvj_7uPGe",
				"outputId": "5e130d63-1789-4ae4-9adf-ad404e5635c3"
			},
			"outputs": [
				{
					"name": "stdout",
					"output_type": "stream",
					"text": [
						"Skipping, found downloaded files in \"./datasets\" (use force=True to force download)\n"
					]
				}
			],
			"source": [
				"# @title Dataset-Loading\n",
				"import opendatasets as od\n",
				"od.download(\"https://www.kaggle.com/datasets/prajwalmohapatra/datasets/data\")"
			]
		},
		{
			"cell_type": "code",
			"execution_count": 3,
			"metadata": {
				"id": "pN7ACMqtuTtu"
			},
			"outputs": [],
			"source": [
				"# @title Dependencies\n",
				"import rasterio\n",
				"import numpy as np\n",
				"import os\n",
				"import glob\n",
				"import logging\n",
				"\n",
				"from rasterio.warp import reproject, Resampling"
			]
		},
		{
			"cell_type": "code",
			"execution_count": 4,
			"metadata": {
				"colab": {
					"base_uri": "https://localhost:8080/"
				},
				"id": "gi3b8SU9uaIk",
				"outputId": "8b2782b9-512b-48dc-fac1-2c1d88ce3197"
			},
			"outputs": [
				{
					"name": "stdout",
					"output_type": "stream",
					"text": [
						"/home/swayam/projects/forest_fire_spread/datasets\n",
						"/home/swayam/projects/forest_fire_spread/datasets/dataset_unstacked\n",
						"/home/swayam/projects/forest_fire_spread/datasets/dataset_unstacked/weather\n",
						"/home/swayam/projects/forest_fire_spread/datasets/dataset_unstacked/fire_mask\n",
						"\n",
						"/home/swayam/projects/forest_fire_spread/datasets/dataset_unstacked/slope/uk_slope_2016.tif\n",
						"/home/swayam/projects/forest_fire_spread/datasets/dataset_unstacked/aspect/uk_aspect_2016.tif\n",
						"/home/swayam/projects/forest_fire_spread/datasets/dataset_unstacked/fuel_map/uk_fuel_map_2020.tif\n",
						"/home/swayam/projects/forest_fire_spread/datasets/dataset_unstacked/ghsl/ghsl_uk_urbanmask2015.tif\n"
					]
				}
			],
			"source": [
				"# @title Directory Setup\n",
				"# Paths\n",
				"dir = '/home/swayam/projects/forest_fire_spread/datasets'\n",
				"base_dir = os.path.join(dir, 'dataset_unstacked')\n",
				"weather_dir = os.path.join(base_dir, 'weather')\n",
				"fire_mask_dir = os.path.join(base_dir, 'fire_mask')\n",
				"output_dir = os.path.join(dir, 'dataset_stacked')\n",
				"\n",
				"print(dir)\n",
				"print(base_dir)\n",
				"print(weather_dir)\n",
				"print(fire_mask_dir)\n",
				"\n",
				"# Static layers\n",
				"slope_path = os.path.join(base_dir, 'slope', 'uk_slope_2016.tif')\n",
				"aspect_path = os.path.join(base_dir, 'aspect', 'uk_aspect_2016.tif')\n",
				"fuel_path = os.path.join(base_dir, 'fuel_map', 'uk_fuel_map_2020.tif')\n",
				"ghsl_path = os.path.join(base_dir, 'ghsl', 'ghsl_uk_urbanmask2015.tif')\n",
				"\n",
				"print()\n",
				"print(slope_path)\n",
				"print(aspect_path)\n",
				"print(fuel_path)\n",
				"print(ghsl_path)\n",
				"\n",
				"# Create output directory\n",
				"os.makedirs(output_dir, exist_ok=True)"
			]
		},
		{
			"cell_type": "code",
			"execution_count": 5,
			"metadata": {
				"colab": {
					"base_uri": "https://localhost:8080/"
				},
				"id": "ObP7YXY-uc6Y",
				"outputId": "9823aeca-f9bb-411d-d449-476d1daa86b8"
			},
			"outputs": [
				{
					"name": "stdout",
					"output_type": "stream",
					"text": [
						"{'driver': 'GTiff', 'dtype': 'uint8', 'nodata': None, 'width': 12917, 'height': 9551, 'count': 1, 'crs': CRS.from_epsg(4326), 'transform': Affine(0.00026949458523585647, 0.0, 77.56161960922043,\n",
						"       0.0, -0.00026949458523585647, 31.290207807979588)}\n",
						"{'driver': 'GTiff', 'dtype': 'uint16', 'nodata': None, 'width': 12917, 'height': 9551, 'count': 1, 'crs': CRS.from_epsg(4326), 'transform': Affine(0.00026949458523585647, 0.0, 77.56161960922043,\n",
						"       0.0, -0.00026949458523585647, 31.290207807979588)}\n",
						"{'driver': 'GTiff', 'dtype': 'uint8', 'nodata': None, 'width': 12917, 'height': 9551, 'count': 1, 'crs': CRS.from_epsg(4326), 'transform': Affine(0.00026949458523585647, 0.0, 77.56161960922043,\n",
						"       0.0, -0.00026949458523585647, 31.290207807979588)}\n",
						"{'driver': 'GTiff', 'dtype': 'uint8', 'nodata': None, 'width': 12917, 'height': 9551, 'count': 1, 'crs': CRS.from_epsg(4326), 'transform': Affine(0.00026949458523585647, 0.0, 77.56161960922043,\n",
						"       0.0, -0.00026949458523585647, 31.290207807979588)}\n"
					]
				}
			],
			"source": [
				"# @title Loading Static Layers\n",
				"# Load static layers once, outside the loop\n",
				"with rasterio.open(slope_path) as s:\n",
				"  slope = s.read(1, masked=True)\n",
				"  ref_meta = s.meta.copy() # Reference metadata\n",
				"  ref_shape = s.shape # Reference shape (height, width) (9551, 12917)\n",
				"  ref_transform = s.transform\n",
				"  ref_crs = s.crs\n",
				"\n",
				"  print(ref_meta)\n",
				"  # print(ref_shape)\n",
				"  # print(ref_transform)\n",
				"  # print(ref_crs)\n",
				"\n",
				"with rasterio.open(aspect_path) as a:\n",
				"  aspect = a.read(1, masked=True)\n",
				"  # print(aspect)\n",
				"  print(a.meta.copy())\n",
				"\n",
				"with rasterio.open(fuel_path) as f:\n",
				"  fuel = f.read(1, masked=True)\n",
				"  # print(fuel)\n",
				"  print(f.meta.copy())\n",
				"\n",
				"with rasterio.open(ghsl_path) as g:\n",
				"  ghsl = g.read(1, masked=True)\n",
				"  # print(ghsl)\n",
				"  print(g.meta.copy())"
			]
		},
		{
			"cell_type": "code",
			"execution_count": 6,
			"metadata": {
				"id": "8rMW7sgzueut"
			},
			"outputs": [],
			"source": [
				"logging.basicConfig(\n",
				"    level=logging.INFO,\n",
				"    format='%(asctime)s - %(levelname)s - %(message)s',\n",
				"    handlers=[\n",
				"        logging.FileHandler('resample_log.txt'),\n",
				"        logging.StreamHandler()\n",
				"    ]\n",
				")\n",
				"logger = logging.getLogger(__name__)"
			]
		},
		{
			"cell_type": "code",
			"execution_count": 7,
			"metadata": {
				"id": "hdTSYstcumjc"
			},
			"outputs": [
				{
					"name": "stderr",
					"output_type": "stream",
					"text": [
						"2025-07-03 16:47:02,051 - INFO - Found 59 weather files to process.\n",
						"2025-07-03 16:47:02,052 - INFO - Processing date: 04_01\n",
						"2025-07-03 16:47:02,054 - INFO - Loading weather data: /home/swayam/projects/forest_fire_spread/datasets/dataset_unstacked/weather/era5_2016_04_01.tif\n",
						"2025-07-03 16:47:07,431 - INFO - Successfully loaded weather data: /home/swayam/projects/forest_fire_spread/datasets/dataset_unstacked/weather/era5_2016_04_01.tif\n",
						"2025-07-03 16:47:07,540 - INFO - Loading fire mask: /home/swayam/projects/forest_fire_spread/datasets/dataset_unstacked/fire_mask/fire_mask_2016_04_01.tif\n",
						"2025-07-03 16:47:07,666 - INFO - Successfully loaded fire mask: /home/swayam/projects/forest_fire_spread/datasets/dataset_unstacked/fire_mask/fire_mask_2016_04_01.tif\n",
						"2025-07-03 16:47:07,680 - INFO - Stacking data for date: 04_01\n",
						"2025-07-03 16:47:52,321 - INFO - Successfully saved stacked raster: /home/swayam/projects/forest_fire_spread/datasets/dataset_stacked/stack_2016_04_01.tif\n",
						"2025-07-03 16:47:52,322 - INFO - Processing date: 04_02\n",
						"2025-07-03 16:47:52,323 - INFO - Loading weather data: /home/swayam/projects/forest_fire_spread/datasets/dataset_unstacked/weather/era5_2016_04_02.tif\n"
					]
				},
				{
					"name": "stdout",
					"output_type": "stream",
					"text": [
						"✅ Saved: /home/swayam/projects/forest_fire_spread/datasets/dataset_stacked/stack_2016_04_01.tif\n"
					]
				},
				{
					"name": "stderr",
					"output_type": "stream",
					"text": [
						"2025-07-03 16:47:57,178 - INFO - Successfully loaded weather data: /home/swayam/projects/forest_fire_spread/datasets/dataset_unstacked/weather/era5_2016_04_02.tif\n",
						"2025-07-03 16:47:57,182 - INFO - Loading fire mask: /home/swayam/projects/forest_fire_spread/datasets/dataset_unstacked/fire_mask/fire_mask_2016_04_02.tif\n",
						"2025-07-03 16:47:57,246 - INFO - Successfully loaded fire mask: /home/swayam/projects/forest_fire_spread/datasets/dataset_unstacked/fire_mask/fire_mask_2016_04_02.tif\n",
						"2025-07-03 16:47:57,249 - INFO - Stacking data for date: 04_02\n",
						"2025-07-03 16:48:40,574 - INFO - Successfully saved stacked raster: /home/swayam/projects/forest_fire_spread/datasets/dataset_stacked/stack_2016_04_02.tif\n",
						"2025-07-03 16:48:40,575 - INFO - Processing date: 04_03\n",
						"2025-07-03 16:48:40,576 - INFO - Loading weather data: /home/swayam/projects/forest_fire_spread/datasets/dataset_unstacked/weather/era5_2016_04_03.tif\n"
					]
				},
				{
					"name": "stdout",
					"output_type": "stream",
					"text": [
						"✅ Saved: /home/swayam/projects/forest_fire_spread/datasets/dataset_stacked/stack_2016_04_02.tif\n"
					]
				},
				{
					"name": "stderr",
					"output_type": "stream",
					"text": [
						"2025-07-03 16:48:45,151 - INFO - Successfully loaded weather data: /home/swayam/projects/forest_fire_spread/datasets/dataset_unstacked/weather/era5_2016_04_03.tif\n",
						"2025-07-03 16:48:45,154 - INFO - Loading fire mask: /home/swayam/projects/forest_fire_spread/datasets/dataset_unstacked/fire_mask/fire_mask_2016_04_03.tif\n",
						"2025-07-03 16:48:45,308 - INFO - Successfully loaded fire mask: /home/swayam/projects/forest_fire_spread/datasets/dataset_unstacked/fire_mask/fire_mask_2016_04_03.tif\n",
						"2025-07-03 16:48:45,311 - INFO - Stacking data for date: 04_03\n",
						"2025-07-03 16:49:28,220 - INFO - Successfully saved stacked raster: /home/swayam/projects/forest_fire_spread/datasets/dataset_stacked/stack_2016_04_03.tif\n",
						"2025-07-03 16:49:28,221 - INFO - Processing date: 04_04\n",
						"2025-07-03 16:49:28,221 - INFO - Loading weather data: /home/swayam/projects/forest_fire_spread/datasets/dataset_unstacked/weather/era5_2016_04_04.tif\n"
					]
				},
				{
					"name": "stdout",
					"output_type": "stream",
					"text": [
						"✅ Saved: /home/swayam/projects/forest_fire_spread/datasets/dataset_stacked/stack_2016_04_03.tif\n"
					]
				},
				{
					"name": "stderr",
					"output_type": "stream",
					"text": [
						"2025-07-03 16:49:32,846 - INFO - Successfully loaded weather data: /home/swayam/projects/forest_fire_spread/datasets/dataset_unstacked/weather/era5_2016_04_04.tif\n",
						"2025-07-03 16:49:32,849 - INFO - Loading fire mask: /home/swayam/projects/forest_fire_spread/datasets/dataset_unstacked/fire_mask/fire_mask_2016_04_04.tif\n",
						"2025-07-03 16:49:32,998 - INFO - Successfully loaded fire mask: /home/swayam/projects/forest_fire_spread/datasets/dataset_unstacked/fire_mask/fire_mask_2016_04_04.tif\n",
						"2025-07-03 16:49:33,001 - INFO - Stacking data for date: 04_04\n",
						"2025-07-03 16:50:15,960 - INFO - Successfully saved stacked raster: /home/swayam/projects/forest_fire_spread/datasets/dataset_stacked/stack_2016_04_04.tif\n",
						"2025-07-03 16:50:15,961 - INFO - Processing date: 04_05\n",
						"2025-07-03 16:50:15,961 - INFO - Loading weather data: /home/swayam/projects/forest_fire_spread/datasets/dataset_unstacked/weather/era5_2016_04_05.tif\n"
					]
				},
				{
					"name": "stdout",
					"output_type": "stream",
					"text": [
						"✅ Saved: /home/swayam/projects/forest_fire_spread/datasets/dataset_stacked/stack_2016_04_04.tif\n"
					]
				},
				{
					"name": "stderr",
					"output_type": "stream",
					"text": [
						"2025-07-03 16:50:23,652 - INFO - Successfully loaded weather data: /home/swayam/projects/forest_fire_spread/datasets/dataset_unstacked/weather/era5_2016_04_05.tif\n",
						"2025-07-03 16:50:23,655 - INFO - Loading fire mask: /home/swayam/projects/forest_fire_spread/datasets/dataset_unstacked/fire_mask/fire_mask_2016_04_05.tif\n",
						"2025-07-03 16:50:29,920 - INFO - Successfully loaded fire mask: /home/swayam/projects/forest_fire_spread/datasets/dataset_unstacked/fire_mask/fire_mask_2016_04_05.tif\n",
						"2025-07-03 16:50:29,923 - INFO - Stacking data for date: 04_05\n",
						"2025-07-03 16:51:13,337 - INFO - Successfully saved stacked raster: /home/swayam/projects/forest_fire_spread/datasets/dataset_stacked/stack_2016_04_05.tif\n",
						"2025-07-03 16:51:13,338 - INFO - Processing date: 04_06\n",
						"2025-07-03 16:51:13,339 - INFO - Loading weather data: /home/swayam/projects/forest_fire_spread/datasets/dataset_unstacked/weather/era5_2016_04_06.tif\n"
					]
				},
				{
					"name": "stdout",
					"output_type": "stream",
					"text": [
						"✅ Saved: /home/swayam/projects/forest_fire_spread/datasets/dataset_stacked/stack_2016_04_05.tif\n"
					]
				},
				{
					"name": "stderr",
					"output_type": "stream",
					"text": [
						"2025-07-03 16:51:19,132 - INFO - Successfully loaded weather data: /home/swayam/projects/forest_fire_spread/datasets/dataset_unstacked/weather/era5_2016_04_06.tif\n",
						"2025-07-03 16:51:19,134 - INFO - Loading fire mask: /home/swayam/projects/forest_fire_spread/datasets/dataset_unstacked/fire_mask/fire_mask_2016_04_06.tif\n",
						"2025-07-03 16:51:19,292 - INFO - Successfully loaded fire mask: /home/swayam/projects/forest_fire_spread/datasets/dataset_unstacked/fire_mask/fire_mask_2016_04_06.tif\n",
						"2025-07-03 16:51:19,295 - INFO - Stacking data for date: 04_06\n",
						"2025-07-03 16:52:02,703 - INFO - Successfully saved stacked raster: /home/swayam/projects/forest_fire_spread/datasets/dataset_stacked/stack_2016_04_06.tif\n",
						"2025-07-03 16:52:02,704 - INFO - Processing date: 04_07\n",
						"2025-07-03 16:52:02,705 - INFO - Loading weather data: /home/swayam/projects/forest_fire_spread/datasets/dataset_unstacked/weather/era5_2016_04_07.tif\n"
					]
				},
				{
					"name": "stdout",
					"output_type": "stream",
					"text": [
						"✅ Saved: /home/swayam/projects/forest_fire_spread/datasets/dataset_stacked/stack_2016_04_06.tif\n"
					]
				},
				{
					"name": "stderr",
					"output_type": "stream",
					"text": [
						"2025-07-03 16:52:07,321 - INFO - Successfully loaded weather data: /home/swayam/projects/forest_fire_spread/datasets/dataset_unstacked/weather/era5_2016_04_07.tif\n",
						"2025-07-03 16:52:07,324 - INFO - Loading fire mask: /home/swayam/projects/forest_fire_spread/datasets/dataset_unstacked/fire_mask/fire_mask_2016_04_07.tif\n",
						"2025-07-03 16:52:07,490 - INFO - Successfully loaded fire mask: /home/swayam/projects/forest_fire_spread/datasets/dataset_unstacked/fire_mask/fire_mask_2016_04_07.tif\n",
						"2025-07-03 16:52:07,492 - INFO - Stacking data for date: 04_07\n",
						"2025-07-03 16:52:51,507 - INFO - Successfully saved stacked raster: /home/swayam/projects/forest_fire_spread/datasets/dataset_stacked/stack_2016_04_07.tif\n",
						"2025-07-03 16:52:51,508 - INFO - Processing date: 04_08\n",
						"2025-07-03 16:52:51,509 - INFO - Loading weather data: /home/swayam/projects/forest_fire_spread/datasets/dataset_unstacked/weather/era5_2016_04_08.tif\n"
					]
				},
				{
					"name": "stdout",
					"output_type": "stream",
					"text": [
						"✅ Saved: /home/swayam/projects/forest_fire_spread/datasets/dataset_stacked/stack_2016_04_07.tif\n"
					]
				},
				{
					"name": "stderr",
					"output_type": "stream",
					"text": [
						"2025-07-03 16:52:56,251 - INFO - Successfully loaded weather data: /home/swayam/projects/forest_fire_spread/datasets/dataset_unstacked/weather/era5_2016_04_08.tif\n",
						"2025-07-03 16:52:56,254 - INFO - Loading fire mask: /home/swayam/projects/forest_fire_spread/datasets/dataset_unstacked/fire_mask/fire_mask_2016_04_08.tif\n",
						"2025-07-03 16:52:56,418 - INFO - Successfully loaded fire mask: /home/swayam/projects/forest_fire_spread/datasets/dataset_unstacked/fire_mask/fire_mask_2016_04_08.tif\n",
						"2025-07-03 16:52:56,421 - INFO - Stacking data for date: 04_08\n",
						"2025-07-03 16:53:40,273 - INFO - Successfully saved stacked raster: /home/swayam/projects/forest_fire_spread/datasets/dataset_stacked/stack_2016_04_08.tif\n",
						"2025-07-03 16:53:40,274 - INFO - Processing date: 04_09\n",
						"2025-07-03 16:53:40,275 - INFO - Loading weather data: /home/swayam/projects/forest_fire_spread/datasets/dataset_unstacked/weather/era5_2016_04_09.tif\n"
					]
				},
				{
					"name": "stdout",
					"output_type": "stream",
					"text": [
						"✅ Saved: /home/swayam/projects/forest_fire_spread/datasets/dataset_stacked/stack_2016_04_08.tif\n"
					]
				},
				{
					"name": "stderr",
					"output_type": "stream",
					"text": [
						"2025-07-03 16:53:44,992 - INFO - Successfully loaded weather data: /home/swayam/projects/forest_fire_spread/datasets/dataset_unstacked/weather/era5_2016_04_09.tif\n",
						"2025-07-03 16:53:44,995 - INFO - Loading fire mask: /home/swayam/projects/forest_fire_spread/datasets/dataset_unstacked/fire_mask/fire_mask_2016_04_09.tif\n",
						"2025-07-03 16:53:45,164 - INFO - Successfully loaded fire mask: /home/swayam/projects/forest_fire_spread/datasets/dataset_unstacked/fire_mask/fire_mask_2016_04_09.tif\n",
						"2025-07-03 16:53:45,166 - INFO - Stacking data for date: 04_09\n",
						"2025-07-03 16:54:28,686 - INFO - Successfully saved stacked raster: /home/swayam/projects/forest_fire_spread/datasets/dataset_stacked/stack_2016_04_09.tif\n",
						"2025-07-03 16:54:28,687 - INFO - Processing date: 04_10\n",
						"2025-07-03 16:54:28,688 - INFO - Loading weather data: /home/swayam/projects/forest_fire_spread/datasets/dataset_unstacked/weather/era5_2016_04_10.tif\n"
					]
				},
				{
					"name": "stdout",
					"output_type": "stream",
					"text": [
						"✅ Saved: /home/swayam/projects/forest_fire_spread/datasets/dataset_stacked/stack_2016_04_09.tif\n"
					]
				},
				{
					"name": "stderr",
					"output_type": "stream",
					"text": [
						"2025-07-03 16:54:33,282 - INFO - Successfully loaded weather data: /home/swayam/projects/forest_fire_spread/datasets/dataset_unstacked/weather/era5_2016_04_10.tif\n",
						"2025-07-03 16:54:33,285 - INFO - Loading fire mask: /home/swayam/projects/forest_fire_spread/datasets/dataset_unstacked/fire_mask/fire_mask_2016_04_10.tif\n",
						"2025-07-03 16:54:33,457 - INFO - Successfully loaded fire mask: /home/swayam/projects/forest_fire_spread/datasets/dataset_unstacked/fire_mask/fire_mask_2016_04_10.tif\n",
						"2025-07-03 16:54:33,459 - INFO - Stacking data for date: 04_10\n",
						"2025-07-03 16:55:17,864 - INFO - Successfully saved stacked raster: /home/swayam/projects/forest_fire_spread/datasets/dataset_stacked/stack_2016_04_10.tif\n",
						"2025-07-03 16:55:17,865 - INFO - Processing date: 04_11\n",
						"2025-07-03 16:55:17,866 - INFO - Loading weather data: /home/swayam/projects/forest_fire_spread/datasets/dataset_unstacked/weather/era5_2016_04_11.tif\n"
					]
				},
				{
					"name": "stdout",
					"output_type": "stream",
					"text": [
						"✅ Saved: /home/swayam/projects/forest_fire_spread/datasets/dataset_stacked/stack_2016_04_10.tif\n"
					]
				},
				{
					"name": "stderr",
					"output_type": "stream",
					"text": [
						"2025-07-03 16:55:22,775 - INFO - Successfully loaded weather data: /home/swayam/projects/forest_fire_spread/datasets/dataset_unstacked/weather/era5_2016_04_11.tif\n",
						"2025-07-03 16:55:22,778 - INFO - Loading fire mask: /home/swayam/projects/forest_fire_spread/datasets/dataset_unstacked/fire_mask/fire_mask_2016_04_11.tif\n",
						"2025-07-03 16:55:22,954 - INFO - Successfully loaded fire mask: /home/swayam/projects/forest_fire_spread/datasets/dataset_unstacked/fire_mask/fire_mask_2016_04_11.tif\n",
						"2025-07-03 16:55:22,956 - INFO - Stacking data for date: 04_11\n",
						"2025-07-03 16:56:06,786 - INFO - Successfully saved stacked raster: /home/swayam/projects/forest_fire_spread/datasets/dataset_stacked/stack_2016_04_11.tif\n",
						"2025-07-03 16:56:06,787 - INFO - Processing date: 04_12\n",
						"2025-07-03 16:56:06,788 - INFO - Loading weather data: /home/swayam/projects/forest_fire_spread/datasets/dataset_unstacked/weather/era5_2016_04_12.tif\n"
					]
				},
				{
					"name": "stdout",
					"output_type": "stream",
					"text": [
						"✅ Saved: /home/swayam/projects/forest_fire_spread/datasets/dataset_stacked/stack_2016_04_11.tif\n"
					]
				},
				{
					"name": "stderr",
					"output_type": "stream",
					"text": [
						"2025-07-03 16:56:11,409 - INFO - Successfully loaded weather data: /home/swayam/projects/forest_fire_spread/datasets/dataset_unstacked/weather/era5_2016_04_12.tif\n",
						"2025-07-03 16:56:11,412 - INFO - Loading fire mask: /home/swayam/projects/forest_fire_spread/datasets/dataset_unstacked/fire_mask/fire_mask_2016_04_12.tif\n",
						"2025-07-03 16:56:11,589 - INFO - Successfully loaded fire mask: /home/swayam/projects/forest_fire_spread/datasets/dataset_unstacked/fire_mask/fire_mask_2016_04_12.tif\n",
						"2025-07-03 16:56:11,592 - INFO - Stacking data for date: 04_12\n",
						"2025-07-03 16:56:56,354 - INFO - Successfully saved stacked raster: /home/swayam/projects/forest_fire_spread/datasets/dataset_stacked/stack_2016_04_12.tif\n",
						"2025-07-03 16:56:56,354 - INFO - Processing date: 04_13\n",
						"2025-07-03 16:56:56,355 - INFO - Loading weather data: /home/swayam/projects/forest_fire_spread/datasets/dataset_unstacked/weather/era5_2016_04_13.tif\n"
					]
				},
				{
					"name": "stdout",
					"output_type": "stream",
					"text": [
						"✅ Saved: /home/swayam/projects/forest_fire_spread/datasets/dataset_stacked/stack_2016_04_12.tif\n"
					]
				},
				{
					"name": "stderr",
					"output_type": "stream",
					"text": [
						"2025-07-03 16:57:01,164 - INFO - Successfully loaded weather data: /home/swayam/projects/forest_fire_spread/datasets/dataset_unstacked/weather/era5_2016_04_13.tif\n",
						"2025-07-03 16:57:01,167 - INFO - Loading fire mask: /home/swayam/projects/forest_fire_spread/datasets/dataset_unstacked/fire_mask/fire_mask_2016_04_13.tif\n",
						"2025-07-03 16:57:01,358 - INFO - Successfully loaded fire mask: /home/swayam/projects/forest_fire_spread/datasets/dataset_unstacked/fire_mask/fire_mask_2016_04_13.tif\n",
						"2025-07-03 16:57:01,360 - INFO - Stacking data for date: 04_13\n",
						"2025-07-03 16:57:45,145 - INFO - Successfully saved stacked raster: /home/swayam/projects/forest_fire_spread/datasets/dataset_stacked/stack_2016_04_13.tif\n",
						"2025-07-03 16:57:45,146 - INFO - Processing date: 04_14\n",
						"2025-07-03 16:57:45,146 - INFO - Loading weather data: /home/swayam/projects/forest_fire_spread/datasets/dataset_unstacked/weather/era5_2016_04_14.tif\n"
					]
				},
				{
					"name": "stdout",
					"output_type": "stream",
					"text": [
						"✅ Saved: /home/swayam/projects/forest_fire_spread/datasets/dataset_stacked/stack_2016_04_13.tif\n"
					]
				},
				{
					"name": "stderr",
					"output_type": "stream",
					"text": [
						"2025-07-03 16:57:49,731 - INFO - Successfully loaded weather data: /home/swayam/projects/forest_fire_spread/datasets/dataset_unstacked/weather/era5_2016_04_14.tif\n",
						"2025-07-03 16:57:49,734 - INFO - Loading fire mask: /home/swayam/projects/forest_fire_spread/datasets/dataset_unstacked/fire_mask/fire_mask_2016_04_14.tif\n",
						"2025-07-03 16:57:49,925 - INFO - Successfully loaded fire mask: /home/swayam/projects/forest_fire_spread/datasets/dataset_unstacked/fire_mask/fire_mask_2016_04_14.tif\n",
						"2025-07-03 16:57:49,928 - INFO - Stacking data for date: 04_14\n",
						"2025-07-03 16:58:34,045 - INFO - Successfully saved stacked raster: /home/swayam/projects/forest_fire_spread/datasets/dataset_stacked/stack_2016_04_14.tif\n",
						"2025-07-03 16:58:34,046 - INFO - Processing date: 04_15\n",
						"2025-07-03 16:58:34,047 - INFO - Loading weather data: /home/swayam/projects/forest_fire_spread/datasets/dataset_unstacked/weather/era5_2016_04_15.tif\n"
					]
				},
				{
					"name": "stdout",
					"output_type": "stream",
					"text": [
						"✅ Saved: /home/swayam/projects/forest_fire_spread/datasets/dataset_stacked/stack_2016_04_14.tif\n"
					]
				},
				{
					"name": "stderr",
					"output_type": "stream",
					"text": [
						"2025-07-03 16:58:40,118 - INFO - Successfully loaded weather data: /home/swayam/projects/forest_fire_spread/datasets/dataset_unstacked/weather/era5_2016_04_15.tif\n",
						"2025-07-03 16:58:40,121 - INFO - Loading fire mask: /home/swayam/projects/forest_fire_spread/datasets/dataset_unstacked/fire_mask/fire_mask_2016_04_15.tif\n",
						"2025-07-03 16:58:40,314 - INFO - Successfully loaded fire mask: /home/swayam/projects/forest_fire_spread/datasets/dataset_unstacked/fire_mask/fire_mask_2016_04_15.tif\n",
						"2025-07-03 16:58:40,316 - INFO - Stacking data for date: 04_15\n",
						"2025-07-03 16:59:24,129 - INFO - Successfully saved stacked raster: /home/swayam/projects/forest_fire_spread/datasets/dataset_stacked/stack_2016_04_15.tif\n",
						"2025-07-03 16:59:24,130 - INFO - Processing date: 04_16\n",
						"2025-07-03 16:59:24,132 - INFO - Loading weather data: /home/swayam/projects/forest_fire_spread/datasets/dataset_unstacked/weather/era5_2016_04_16.tif\n"
					]
				},
				{
					"name": "stdout",
					"output_type": "stream",
					"text": [
						"✅ Saved: /home/swayam/projects/forest_fire_spread/datasets/dataset_stacked/stack_2016_04_15.tif\n"
					]
				},
				{
					"name": "stderr",
					"output_type": "stream",
					"text": [
						"2025-07-03 16:59:28,732 - INFO - Successfully loaded weather data: /home/swayam/projects/forest_fire_spread/datasets/dataset_unstacked/weather/era5_2016_04_16.tif\n",
						"2025-07-03 16:59:28,736 - INFO - Loading fire mask: /home/swayam/projects/forest_fire_spread/datasets/dataset_unstacked/fire_mask/fire_mask_2016_04_16.tif\n",
						"2025-07-03 16:59:28,912 - INFO - Successfully loaded fire mask: /home/swayam/projects/forest_fire_spread/datasets/dataset_unstacked/fire_mask/fire_mask_2016_04_16.tif\n",
						"2025-07-03 16:59:28,914 - INFO - Stacking data for date: 04_16\n",
						"2025-07-03 17:00:11,880 - INFO - Successfully saved stacked raster: /home/swayam/projects/forest_fire_spread/datasets/dataset_stacked/stack_2016_04_16.tif\n",
						"2025-07-03 17:00:11,881 - INFO - Processing date: 04_17\n",
						"2025-07-03 17:00:11,881 - INFO - Loading weather data: /home/swayam/projects/forest_fire_spread/datasets/dataset_unstacked/weather/era5_2016_04_17.tif\n"
					]
				},
				{
					"name": "stdout",
					"output_type": "stream",
					"text": [
						"✅ Saved: /home/swayam/projects/forest_fire_spread/datasets/dataset_stacked/stack_2016_04_16.tif\n"
					]
				},
				{
					"name": "stderr",
					"output_type": "stream",
					"text": [
						"2025-07-03 17:00:16,512 - INFO - Successfully loaded weather data: /home/swayam/projects/forest_fire_spread/datasets/dataset_unstacked/weather/era5_2016_04_17.tif\n",
						"2025-07-03 17:00:16,515 - INFO - Loading fire mask: /home/swayam/projects/forest_fire_spread/datasets/dataset_unstacked/fire_mask/fire_mask_2016_04_17.tif\n",
						"2025-07-03 17:00:16,674 - INFO - Successfully loaded fire mask: /home/swayam/projects/forest_fire_spread/datasets/dataset_unstacked/fire_mask/fire_mask_2016_04_17.tif\n",
						"2025-07-03 17:00:16,677 - INFO - Stacking data for date: 04_17\n",
						"2025-07-03 17:01:00,453 - INFO - Successfully saved stacked raster: /home/swayam/projects/forest_fire_spread/datasets/dataset_stacked/stack_2016_04_17.tif\n",
						"2025-07-03 17:01:00,454 - INFO - Processing date: 04_18\n",
						"2025-07-03 17:01:00,454 - INFO - Loading weather data: /home/swayam/projects/forest_fire_spread/datasets/dataset_unstacked/weather/era5_2016_04_18.tif\n"
					]
				},
				{
					"name": "stdout",
					"output_type": "stream",
					"text": [
						"✅ Saved: /home/swayam/projects/forest_fire_spread/datasets/dataset_stacked/stack_2016_04_17.tif\n"
					]
				},
				{
					"name": "stderr",
					"output_type": "stream",
					"text": [
						"2025-07-03 17:01:05,470 - INFO - Successfully loaded weather data: /home/swayam/projects/forest_fire_spread/datasets/dataset_unstacked/weather/era5_2016_04_18.tif\n",
						"2025-07-03 17:01:05,473 - INFO - Loading fire mask: /home/swayam/projects/forest_fire_spread/datasets/dataset_unstacked/fire_mask/fire_mask_2016_04_18.tif\n",
						"2025-07-03 17:01:05,674 - INFO - Successfully loaded fire mask: /home/swayam/projects/forest_fire_spread/datasets/dataset_unstacked/fire_mask/fire_mask_2016_04_18.tif\n",
						"2025-07-03 17:01:05,678 - INFO - Stacking data for date: 04_18\n",
						"2025-07-03 17:01:51,593 - INFO - Successfully saved stacked raster: /home/swayam/projects/forest_fire_spread/datasets/dataset_stacked/stack_2016_04_18.tif\n",
						"2025-07-03 17:01:51,594 - INFO - Processing date: 04_19\n",
						"2025-07-03 17:01:51,595 - INFO - Loading weather data: /home/swayam/projects/forest_fire_spread/datasets/dataset_unstacked/weather/era5_2016_04_19.tif\n"
					]
				},
				{
					"name": "stdout",
					"output_type": "stream",
					"text": [
						"✅ Saved: /home/swayam/projects/forest_fire_spread/datasets/dataset_stacked/stack_2016_04_18.tif\n"
					]
				},
				{
					"name": "stderr",
					"output_type": "stream",
					"text": [
						"2025-07-03 17:01:56,274 - INFO - Successfully loaded weather data: /home/swayam/projects/forest_fire_spread/datasets/dataset_unstacked/weather/era5_2016_04_19.tif\n",
						"2025-07-03 17:01:56,278 - INFO - Loading fire mask: /home/swayam/projects/forest_fire_spread/datasets/dataset_unstacked/fire_mask/fire_mask_2016_04_19.tif\n",
						"2025-07-03 17:01:56,436 - INFO - Successfully loaded fire mask: /home/swayam/projects/forest_fire_spread/datasets/dataset_unstacked/fire_mask/fire_mask_2016_04_19.tif\n",
						"2025-07-03 17:01:56,439 - INFO - Stacking data for date: 04_19\n",
						"2025-07-03 17:02:39,900 - INFO - Successfully saved stacked raster: /home/swayam/projects/forest_fire_spread/datasets/dataset_stacked/stack_2016_04_19.tif\n",
						"2025-07-03 17:02:39,901 - INFO - Processing date: 04_20\n",
						"2025-07-03 17:02:39,903 - INFO - Loading weather data: /home/swayam/projects/forest_fire_spread/datasets/dataset_unstacked/weather/era5_2016_04_20.tif\n"
					]
				},
				{
					"name": "stdout",
					"output_type": "stream",
					"text": [
						"✅ Saved: /home/swayam/projects/forest_fire_spread/datasets/dataset_stacked/stack_2016_04_19.tif\n"
					]
				},
				{
					"name": "stderr",
					"output_type": "stream",
					"text": [
						"2025-07-03 17:02:45,065 - INFO - Successfully loaded weather data: /home/swayam/projects/forest_fire_spread/datasets/dataset_unstacked/weather/era5_2016_04_20.tif\n",
						"2025-07-03 17:02:45,067 - INFO - Loading fire mask: /home/swayam/projects/forest_fire_spread/datasets/dataset_unstacked/fire_mask/fire_mask_2016_04_20.tif\n",
						"2025-07-03 17:02:45,252 - INFO - Successfully loaded fire mask: /home/swayam/projects/forest_fire_spread/datasets/dataset_unstacked/fire_mask/fire_mask_2016_04_20.tif\n",
						"2025-07-03 17:02:45,254 - INFO - Stacking data for date: 04_20\n",
						"2025-07-03 17:03:30,093 - INFO - Successfully saved stacked raster: /home/swayam/projects/forest_fire_spread/datasets/dataset_stacked/stack_2016_04_20.tif\n",
						"2025-07-03 17:03:30,094 - INFO - Processing date: 04_21\n",
						"2025-07-03 17:03:30,095 - INFO - Loading weather data: /home/swayam/projects/forest_fire_spread/datasets/dataset_unstacked/weather/era5_2016_04_21.tif\n"
					]
				},
				{
					"name": "stdout",
					"output_type": "stream",
					"text": [
						"✅ Saved: /home/swayam/projects/forest_fire_spread/datasets/dataset_stacked/stack_2016_04_20.tif\n"
					]
				},
				{
					"name": "stderr",
					"output_type": "stream",
					"text": [
						"2025-07-03 17:03:34,876 - INFO - Successfully loaded weather data: /home/swayam/projects/forest_fire_spread/datasets/dataset_unstacked/weather/era5_2016_04_21.tif\n",
						"2025-07-03 17:03:34,880 - INFO - Loading fire mask: /home/swayam/projects/forest_fire_spread/datasets/dataset_unstacked/fire_mask/fire_mask_2016_04_21.tif\n",
						"2025-07-03 17:03:35,075 - INFO - Successfully loaded fire mask: /home/swayam/projects/forest_fire_spread/datasets/dataset_unstacked/fire_mask/fire_mask_2016_04_21.tif\n",
						"2025-07-03 17:03:35,078 - INFO - Stacking data for date: 04_21\n",
						"2025-07-03 17:04:19,755 - INFO - Successfully saved stacked raster: /home/swayam/projects/forest_fire_spread/datasets/dataset_stacked/stack_2016_04_21.tif\n",
						"2025-07-03 17:04:19,756 - INFO - Processing date: 04_22\n",
						"2025-07-03 17:04:19,756 - INFO - Loading weather data: /home/swayam/projects/forest_fire_spread/datasets/dataset_unstacked/weather/era5_2016_04_22.tif\n"
					]
				},
				{
					"name": "stdout",
					"output_type": "stream",
					"text": [
						"✅ Saved: /home/swayam/projects/forest_fire_spread/datasets/dataset_stacked/stack_2016_04_21.tif\n"
					]
				},
				{
					"name": "stderr",
					"output_type": "stream",
					"text": [
						"2025-07-03 17:04:27,348 - INFO - Successfully loaded weather data: /home/swayam/projects/forest_fire_spread/datasets/dataset_unstacked/weather/era5_2016_04_22.tif\n",
						"2025-07-03 17:04:27,351 - INFO - Loading fire mask: /home/swayam/projects/forest_fire_spread/datasets/dataset_unstacked/fire_mask/fire_mask_2016_04_22.tif\n",
						"2025-07-03 17:04:30,024 - INFO - Successfully loaded fire mask: /home/swayam/projects/forest_fire_spread/datasets/dataset_unstacked/fire_mask/fire_mask_2016_04_22.tif\n",
						"2025-07-03 17:04:30,027 - INFO - Stacking data for date: 04_22\n",
						"2025-07-03 17:05:21,482 - INFO - Successfully saved stacked raster: /home/swayam/projects/forest_fire_spread/datasets/dataset_stacked/stack_2016_04_22.tif\n",
						"2025-07-03 17:05:21,482 - INFO - Processing date: 04_23\n",
						"2025-07-03 17:05:21,483 - INFO - Loading weather data: /home/swayam/projects/forest_fire_spread/datasets/dataset_unstacked/weather/era5_2016_04_23.tif\n"
					]
				},
				{
					"name": "stdout",
					"output_type": "stream",
					"text": [
						"✅ Saved: /home/swayam/projects/forest_fire_spread/datasets/dataset_stacked/stack_2016_04_22.tif\n"
					]
				},
				{
					"name": "stderr",
					"output_type": "stream",
					"text": [
						"2025-07-03 17:05:27,982 - INFO - Successfully loaded weather data: /home/swayam/projects/forest_fire_spread/datasets/dataset_unstacked/weather/era5_2016_04_23.tif\n",
						"2025-07-03 17:05:27,985 - INFO - Loading fire mask: /home/swayam/projects/forest_fire_spread/datasets/dataset_unstacked/fire_mask/fire_mask_2016_04_23.tif\n",
						"2025-07-03 17:05:28,208 - INFO - Successfully loaded fire mask: /home/swayam/projects/forest_fire_spread/datasets/dataset_unstacked/fire_mask/fire_mask_2016_04_23.tif\n",
						"2025-07-03 17:05:28,212 - INFO - Stacking data for date: 04_23\n",
						"2025-07-03 17:06:15,226 - INFO - Successfully saved stacked raster: /home/swayam/projects/forest_fire_spread/datasets/dataset_stacked/stack_2016_04_23.tif\n",
						"2025-07-03 17:06:15,227 - INFO - Processing date: 04_24\n",
						"2025-07-03 17:06:15,229 - INFO - Loading weather data: /home/swayam/projects/forest_fire_spread/datasets/dataset_unstacked/weather/era5_2016_04_24.tif\n"
					]
				},
				{
					"name": "stdout",
					"output_type": "stream",
					"text": [
						"✅ Saved: /home/swayam/projects/forest_fire_spread/datasets/dataset_stacked/stack_2016_04_23.tif\n"
					]
				},
				{
					"name": "stderr",
					"output_type": "stream",
					"text": [
						"2025-07-03 17:06:20,034 - INFO - Successfully loaded weather data: /home/swayam/projects/forest_fire_spread/datasets/dataset_unstacked/weather/era5_2016_04_24.tif\n",
						"2025-07-03 17:06:20,037 - INFO - Loading fire mask: /home/swayam/projects/forest_fire_spread/datasets/dataset_unstacked/fire_mask/fire_mask_2016_04_24.tif\n",
						"2025-07-03 17:06:20,235 - INFO - Successfully loaded fire mask: /home/swayam/projects/forest_fire_spread/datasets/dataset_unstacked/fire_mask/fire_mask_2016_04_24.tif\n",
						"2025-07-03 17:06:20,238 - INFO - Stacking data for date: 04_24\n",
						"2025-07-03 17:07:06,083 - INFO - Successfully saved stacked raster: /home/swayam/projects/forest_fire_spread/datasets/dataset_stacked/stack_2016_04_24.tif\n",
						"2025-07-03 17:07:06,084 - INFO - Processing date: 04_25\n",
						"2025-07-03 17:07:06,084 - INFO - Loading weather data: /home/swayam/projects/forest_fire_spread/datasets/dataset_unstacked/weather/era5_2016_04_25.tif\n"
					]
				},
				{
					"name": "stdout",
					"output_type": "stream",
					"text": [
						"✅ Saved: /home/swayam/projects/forest_fire_spread/datasets/dataset_stacked/stack_2016_04_24.tif\n"
					]
				},
				{
					"name": "stderr",
					"output_type": "stream",
					"text": [
						"2025-07-03 17:07:13,359 - INFO - Successfully loaded weather data: /home/swayam/projects/forest_fire_spread/datasets/dataset_unstacked/weather/era5_2016_04_25.tif\n",
						"2025-07-03 17:07:13,362 - INFO - Loading fire mask: /home/swayam/projects/forest_fire_spread/datasets/dataset_unstacked/fire_mask/fire_mask_2016_04_25.tif\n",
						"2025-07-03 17:07:15,965 - INFO - Successfully loaded fire mask: /home/swayam/projects/forest_fire_spread/datasets/dataset_unstacked/fire_mask/fire_mask_2016_04_25.tif\n",
						"2025-07-03 17:07:15,967 - INFO - Stacking data for date: 04_25\n",
						"2025-07-03 17:07:59,075 - INFO - Successfully saved stacked raster: /home/swayam/projects/forest_fire_spread/datasets/dataset_stacked/stack_2016_04_25.tif\n",
						"2025-07-03 17:07:59,076 - INFO - Processing date: 04_26\n",
						"2025-07-03 17:07:59,077 - INFO - Loading weather data: /home/swayam/projects/forest_fire_spread/datasets/dataset_unstacked/weather/era5_2016_04_26.tif\n"
					]
				},
				{
					"name": "stdout",
					"output_type": "stream",
					"text": [
						"✅ Saved: /home/swayam/projects/forest_fire_spread/datasets/dataset_stacked/stack_2016_04_25.tif\n"
					]
				},
				{
					"name": "stderr",
					"output_type": "stream",
					"text": [
						"2025-07-03 17:08:03,857 - INFO - Successfully loaded weather data: /home/swayam/projects/forest_fire_spread/datasets/dataset_unstacked/weather/era5_2016_04_26.tif\n",
						"2025-07-03 17:08:03,860 - INFO - Loading fire mask: /home/swayam/projects/forest_fire_spread/datasets/dataset_unstacked/fire_mask/fire_mask_2016_04_26.tif\n",
						"2025-07-03 17:08:04,054 - INFO - Successfully loaded fire mask: /home/swayam/projects/forest_fire_spread/datasets/dataset_unstacked/fire_mask/fire_mask_2016_04_26.tif\n",
						"2025-07-03 17:08:04,056 - INFO - Stacking data for date: 04_26\n",
						"2025-07-03 17:08:47,267 - INFO - Successfully saved stacked raster: /home/swayam/projects/forest_fire_spread/datasets/dataset_stacked/stack_2016_04_26.tif\n",
						"2025-07-03 17:08:47,267 - INFO - Processing date: 04_27\n",
						"2025-07-03 17:08:47,268 - INFO - Loading weather data: /home/swayam/projects/forest_fire_spread/datasets/dataset_unstacked/weather/era5_2016_04_27.tif\n"
					]
				},
				{
					"name": "stdout",
					"output_type": "stream",
					"text": [
						"✅ Saved: /home/swayam/projects/forest_fire_spread/datasets/dataset_stacked/stack_2016_04_26.tif\n"
					]
				},
				{
					"name": "stderr",
					"output_type": "stream",
					"text": [
						"2025-07-03 17:08:52,073 - INFO - Successfully loaded weather data: /home/swayam/projects/forest_fire_spread/datasets/dataset_unstacked/weather/era5_2016_04_27.tif\n",
						"2025-07-03 17:08:52,076 - INFO - Loading fire mask: /home/swayam/projects/forest_fire_spread/datasets/dataset_unstacked/fire_mask/fire_mask_2016_04_27.tif\n",
						"2025-07-03 17:08:52,269 - INFO - Successfully loaded fire mask: /home/swayam/projects/forest_fire_spread/datasets/dataset_unstacked/fire_mask/fire_mask_2016_04_27.tif\n",
						"2025-07-03 17:08:52,272 - INFO - Stacking data for date: 04_27\n",
						"2025-07-03 17:09:35,447 - INFO - Successfully saved stacked raster: /home/swayam/projects/forest_fire_spread/datasets/dataset_stacked/stack_2016_04_27.tif\n",
						"2025-07-03 17:09:35,448 - INFO - Processing date: 04_28\n",
						"2025-07-03 17:09:35,448 - INFO - Loading weather data: /home/swayam/projects/forest_fire_spread/datasets/dataset_unstacked/weather/era5_2016_04_28.tif\n"
					]
				},
				{
					"name": "stdout",
					"output_type": "stream",
					"text": [
						"✅ Saved: /home/swayam/projects/forest_fire_spread/datasets/dataset_stacked/stack_2016_04_27.tif\n"
					]
				},
				{
					"name": "stderr",
					"output_type": "stream",
					"text": [
						"2025-07-03 17:09:40,070 - INFO - Successfully loaded weather data: /home/swayam/projects/forest_fire_spread/datasets/dataset_unstacked/weather/era5_2016_04_28.tif\n",
						"2025-07-03 17:09:40,074 - INFO - Loading fire mask: /home/swayam/projects/forest_fire_spread/datasets/dataset_unstacked/fire_mask/fire_mask_2016_04_28.tif\n",
						"2025-07-03 17:09:40,277 - INFO - Successfully loaded fire mask: /home/swayam/projects/forest_fire_spread/datasets/dataset_unstacked/fire_mask/fire_mask_2016_04_28.tif\n",
						"2025-07-03 17:09:40,279 - INFO - Stacking data for date: 04_28\n",
						"2025-07-03 17:10:23,346 - INFO - Successfully saved stacked raster: /home/swayam/projects/forest_fire_spread/datasets/dataset_stacked/stack_2016_04_28.tif\n",
						"2025-07-03 17:10:23,347 - INFO - Processing date: 04_29\n",
						"2025-07-03 17:10:23,347 - INFO - Loading weather data: /home/swayam/projects/forest_fire_spread/datasets/dataset_unstacked/weather/era5_2016_04_29.tif\n"
					]
				},
				{
					"name": "stdout",
					"output_type": "stream",
					"text": [
						"✅ Saved: /home/swayam/projects/forest_fire_spread/datasets/dataset_stacked/stack_2016_04_28.tif\n"
					]
				},
				{
					"name": "stderr",
					"output_type": "stream",
					"text": [
						"2025-07-03 17:10:28,000 - INFO - Successfully loaded weather data: /home/swayam/projects/forest_fire_spread/datasets/dataset_unstacked/weather/era5_2016_04_29.tif\n",
						"2025-07-03 17:10:28,003 - INFO - Loading fire mask: /home/swayam/projects/forest_fire_spread/datasets/dataset_unstacked/fire_mask/fire_mask_2016_04_29.tif\n",
						"2025-07-03 17:10:28,199 - INFO - Successfully loaded fire mask: /home/swayam/projects/forest_fire_spread/datasets/dataset_unstacked/fire_mask/fire_mask_2016_04_29.tif\n",
						"2025-07-03 17:10:28,202 - INFO - Stacking data for date: 04_29\n",
						"2025-07-03 17:11:11,461 - INFO - Successfully saved stacked raster: /home/swayam/projects/forest_fire_spread/datasets/dataset_stacked/stack_2016_04_29.tif\n",
						"2025-07-03 17:11:11,462 - INFO - Processing date: 04_30\n",
						"2025-07-03 17:11:11,463 - INFO - Loading weather data: /home/swayam/projects/forest_fire_spread/datasets/dataset_unstacked/weather/era5_2016_04_30.tif\n"
					]
				},
				{
					"name": "stdout",
					"output_type": "stream",
					"text": [
						"✅ Saved: /home/swayam/projects/forest_fire_spread/datasets/dataset_stacked/stack_2016_04_29.tif\n"
					]
				},
				{
					"name": "stderr",
					"output_type": "stream",
					"text": [
						"2025-07-03 17:11:16,660 - INFO - Successfully loaded weather data: /home/swayam/projects/forest_fire_spread/datasets/dataset_unstacked/weather/era5_2016_04_30.tif\n",
						"2025-07-03 17:11:16,663 - INFO - Loading fire mask: /home/swayam/projects/forest_fire_spread/datasets/dataset_unstacked/fire_mask/fire_mask_2016_04_30.tif\n",
						"2025-07-03 17:11:16,865 - INFO - Successfully loaded fire mask: /home/swayam/projects/forest_fire_spread/datasets/dataset_unstacked/fire_mask/fire_mask_2016_04_30.tif\n",
						"2025-07-03 17:11:16,868 - INFO - Stacking data for date: 04_30\n",
						"2025-07-03 17:12:00,676 - INFO - Successfully saved stacked raster: /home/swayam/projects/forest_fire_spread/datasets/dataset_stacked/stack_2016_04_30.tif\n",
						"2025-07-03 17:12:00,677 - INFO - Processing date: 05_01\n",
						"2025-07-03 17:12:00,678 - INFO - Loading weather data: /home/swayam/projects/forest_fire_spread/datasets/dataset_unstacked/weather/era5_2016_05_01.tif\n"
					]
				},
				{
					"name": "stdout",
					"output_type": "stream",
					"text": [
						"✅ Saved: /home/swayam/projects/forest_fire_spread/datasets/dataset_stacked/stack_2016_04_30.tif\n"
					]
				},
				{
					"name": "stderr",
					"output_type": "stream",
					"text": [
						"2025-07-03 17:12:05,388 - INFO - Successfully loaded weather data: /home/swayam/projects/forest_fire_spread/datasets/dataset_unstacked/weather/era5_2016_05_01.tif\n",
						"2025-07-03 17:12:05,391 - INFO - Loading fire mask: /home/swayam/projects/forest_fire_spread/datasets/dataset_unstacked/fire_mask/fire_mask_2016_05_01.tif\n",
						"2025-07-03 17:12:05,594 - INFO - Successfully loaded fire mask: /home/swayam/projects/forest_fire_spread/datasets/dataset_unstacked/fire_mask/fire_mask_2016_05_01.tif\n",
						"2025-07-03 17:12:05,596 - INFO - Stacking data for date: 05_01\n",
						"2025-07-03 17:12:49,066 - INFO - Successfully saved stacked raster: /home/swayam/projects/forest_fire_spread/datasets/dataset_stacked/stack_2016_05_01.tif\n",
						"2025-07-03 17:12:49,067 - INFO - Processing date: 05_02\n",
						"2025-07-03 17:12:49,067 - INFO - Loading weather data: /home/swayam/projects/forest_fire_spread/datasets/dataset_unstacked/weather/era5_2016_05_02.tif\n"
					]
				},
				{
					"name": "stdout",
					"output_type": "stream",
					"text": [
						"✅ Saved: /home/swayam/projects/forest_fire_spread/datasets/dataset_stacked/stack_2016_05_01.tif\n"
					]
				},
				{
					"name": "stderr",
					"output_type": "stream",
					"text": [
						"2025-07-03 17:12:53,713 - INFO - Successfully loaded weather data: /home/swayam/projects/forest_fire_spread/datasets/dataset_unstacked/weather/era5_2016_05_02.tif\n",
						"2025-07-03 17:12:53,716 - INFO - Loading fire mask: /home/swayam/projects/forest_fire_spread/datasets/dataset_unstacked/fire_mask/fire_mask_2016_05_02.tif\n",
						"2025-07-03 17:12:53,904 - INFO - Successfully loaded fire mask: /home/swayam/projects/forest_fire_spread/datasets/dataset_unstacked/fire_mask/fire_mask_2016_05_02.tif\n",
						"2025-07-03 17:12:53,907 - INFO - Stacking data for date: 05_02\n",
						"2025-07-03 17:13:36,846 - INFO - Successfully saved stacked raster: /home/swayam/projects/forest_fire_spread/datasets/dataset_stacked/stack_2016_05_02.tif\n",
						"2025-07-03 17:13:36,847 - INFO - Processing date: 05_03\n",
						"2025-07-03 17:13:36,848 - INFO - Loading weather data: /home/swayam/projects/forest_fire_spread/datasets/dataset_unstacked/weather/era5_2016_05_03.tif\n"
					]
				},
				{
					"name": "stdout",
					"output_type": "stream",
					"text": [
						"✅ Saved: /home/swayam/projects/forest_fire_spread/datasets/dataset_stacked/stack_2016_05_02.tif\n"
					]
				},
				{
					"name": "stderr",
					"output_type": "stream",
					"text": [
						"2025-07-03 17:13:41,522 - INFO - Successfully loaded weather data: /home/swayam/projects/forest_fire_spread/datasets/dataset_unstacked/weather/era5_2016_05_03.tif\n",
						"2025-07-03 17:13:41,525 - INFO - Loading fire mask: /home/swayam/projects/forest_fire_spread/datasets/dataset_unstacked/fire_mask/fire_mask_2016_05_03.tif\n",
						"2025-07-03 17:13:41,680 - INFO - Successfully loaded fire mask: /home/swayam/projects/forest_fire_spread/datasets/dataset_unstacked/fire_mask/fire_mask_2016_05_03.tif\n",
						"2025-07-03 17:13:41,683 - INFO - Stacking data for date: 05_03\n",
						"2025-07-03 17:14:27,195 - INFO - Successfully saved stacked raster: /home/swayam/projects/forest_fire_spread/datasets/dataset_stacked/stack_2016_05_03.tif\n",
						"2025-07-03 17:14:27,196 - INFO - Processing date: 05_04\n",
						"2025-07-03 17:14:27,196 - INFO - Loading weather data: /home/swayam/projects/forest_fire_spread/datasets/dataset_unstacked/weather/era5_2016_05_04.tif\n"
					]
				},
				{
					"name": "stdout",
					"output_type": "stream",
					"text": [
						"✅ Saved: /home/swayam/projects/forest_fire_spread/datasets/dataset_stacked/stack_2016_05_03.tif\n"
					]
				},
				{
					"name": "stderr",
					"output_type": "stream",
					"text": [
						"2025-07-03 17:14:31,841 - INFO - Successfully loaded weather data: /home/swayam/projects/forest_fire_spread/datasets/dataset_unstacked/weather/era5_2016_05_04.tif\n",
						"2025-07-03 17:14:31,843 - INFO - Loading fire mask: /home/swayam/projects/forest_fire_spread/datasets/dataset_unstacked/fire_mask/fire_mask_2016_05_04.tif\n",
						"2025-07-03 17:14:32,006 - INFO - Successfully loaded fire mask: /home/swayam/projects/forest_fire_spread/datasets/dataset_unstacked/fire_mask/fire_mask_2016_05_04.tif\n",
						"2025-07-03 17:14:32,008 - INFO - Stacking data for date: 05_04\n",
						"2025-07-03 17:15:19,186 - INFO - Successfully saved stacked raster: /home/swayam/projects/forest_fire_spread/datasets/dataset_stacked/stack_2016_05_04.tif\n",
						"2025-07-03 17:15:19,187 - INFO - Processing date: 05_05\n",
						"2025-07-03 17:15:19,190 - INFO - Loading weather data: /home/swayam/projects/forest_fire_spread/datasets/dataset_unstacked/weather/era5_2016_05_05.tif\n"
					]
				},
				{
					"name": "stdout",
					"output_type": "stream",
					"text": [
						"✅ Saved: /home/swayam/projects/forest_fire_spread/datasets/dataset_stacked/stack_2016_05_04.tif\n"
					]
				},
				{
					"name": "stderr",
					"output_type": "stream",
					"text": [
						"2025-07-03 17:15:28,856 - INFO - Successfully loaded weather data: /home/swayam/projects/forest_fire_spread/datasets/dataset_unstacked/weather/era5_2016_05_05.tif\n",
						"2025-07-03 17:15:29,081 - INFO - Loading fire mask: /home/swayam/projects/forest_fire_spread/datasets/dataset_unstacked/fire_mask/fire_mask_2016_05_05.tif\n",
						"2025-07-03 17:15:32,488 - INFO - Successfully loaded fire mask: /home/swayam/projects/forest_fire_spread/datasets/dataset_unstacked/fire_mask/fire_mask_2016_05_05.tif\n",
						"2025-07-03 17:15:32,491 - INFO - Stacking data for date: 05_05\n",
						"2025-07-03 17:16:16,538 - INFO - Successfully saved stacked raster: /home/swayam/projects/forest_fire_spread/datasets/dataset_stacked/stack_2016_05_05.tif\n",
						"2025-07-03 17:16:16,539 - INFO - Processing date: 05_06\n",
						"2025-07-03 17:16:16,540 - INFO - Loading weather data: /home/swayam/projects/forest_fire_spread/datasets/dataset_unstacked/weather/era5_2016_05_06.tif\n"
					]
				},
				{
					"name": "stdout",
					"output_type": "stream",
					"text": [
						"✅ Saved: /home/swayam/projects/forest_fire_spread/datasets/dataset_stacked/stack_2016_05_05.tif\n"
					]
				},
				{
					"name": "stderr",
					"output_type": "stream",
					"text": [
						"2025-07-03 17:16:24,187 - INFO - Successfully loaded weather data: /home/swayam/projects/forest_fire_spread/datasets/dataset_unstacked/weather/era5_2016_05_06.tif\n",
						"2025-07-03 17:16:24,190 - INFO - Loading fire mask: /home/swayam/projects/forest_fire_spread/datasets/dataset_unstacked/fire_mask/fire_mask_2016_05_06.tif\n",
						"2025-07-03 17:16:35,399 - INFO - Successfully loaded fire mask: /home/swayam/projects/forest_fire_spread/datasets/dataset_unstacked/fire_mask/fire_mask_2016_05_06.tif\n",
						"2025-07-03 17:16:35,403 - INFO - Stacking data for date: 05_06\n",
						"2025-07-03 17:17:20,801 - INFO - Successfully saved stacked raster: /home/swayam/projects/forest_fire_spread/datasets/dataset_stacked/stack_2016_05_06.tif\n",
						"2025-07-03 17:17:20,802 - INFO - Processing date: 05_07\n",
						"2025-07-03 17:17:20,804 - INFO - Loading weather data: /home/swayam/projects/forest_fire_spread/datasets/dataset_unstacked/weather/era5_2016_05_07.tif\n"
					]
				},
				{
					"name": "stdout",
					"output_type": "stream",
					"text": [
						"✅ Saved: /home/swayam/projects/forest_fire_spread/datasets/dataset_stacked/stack_2016_05_06.tif\n"
					]
				},
				{
					"name": "stderr",
					"output_type": "stream",
					"text": [
						"2025-07-03 17:17:25,745 - INFO - Successfully loaded weather data: /home/swayam/projects/forest_fire_spread/datasets/dataset_unstacked/weather/era5_2016_05_07.tif\n",
						"2025-07-03 17:17:25,748 - INFO - Loading fire mask: /home/swayam/projects/forest_fire_spread/datasets/dataset_unstacked/fire_mask/fire_mask_2016_05_07.tif\n",
						"2025-07-03 17:17:25,895 - INFO - Successfully loaded fire mask: /home/swayam/projects/forest_fire_spread/datasets/dataset_unstacked/fire_mask/fire_mask_2016_05_07.tif\n",
						"2025-07-03 17:17:25,898 - INFO - Stacking data for date: 05_07\n",
						"2025-07-03 17:18:09,583 - INFO - Successfully saved stacked raster: /home/swayam/projects/forest_fire_spread/datasets/dataset_stacked/stack_2016_05_07.tif\n",
						"2025-07-03 17:18:09,584 - INFO - Processing date: 05_08\n",
						"2025-07-03 17:18:09,585 - INFO - Loading weather data: /home/swayam/projects/forest_fire_spread/datasets/dataset_unstacked/weather/era5_2016_05_08.tif\n"
					]
				},
				{
					"name": "stdout",
					"output_type": "stream",
					"text": [
						"✅ Saved: /home/swayam/projects/forest_fire_spread/datasets/dataset_stacked/stack_2016_05_07.tif\n"
					]
				},
				{
					"name": "stderr",
					"output_type": "stream",
					"text": [
						"2025-07-03 17:18:14,198 - INFO - Successfully loaded weather data: /home/swayam/projects/forest_fire_spread/datasets/dataset_unstacked/weather/era5_2016_05_08.tif\n",
						"2025-07-03 17:18:14,201 - INFO - Loading fire mask: /home/swayam/projects/forest_fire_spread/datasets/dataset_unstacked/fire_mask/fire_mask_2016_05_08.tif\n",
						"2025-07-03 17:18:14,352 - INFO - Successfully loaded fire mask: /home/swayam/projects/forest_fire_spread/datasets/dataset_unstacked/fire_mask/fire_mask_2016_05_08.tif\n",
						"2025-07-03 17:18:14,355 - INFO - Stacking data for date: 05_08\n",
						"2025-07-03 17:18:57,470 - INFO - Successfully saved stacked raster: /home/swayam/projects/forest_fire_spread/datasets/dataset_stacked/stack_2016_05_08.tif\n",
						"2025-07-03 17:18:57,471 - INFO - Processing date: 05_09\n",
						"2025-07-03 17:18:57,471 - INFO - Loading weather data: /home/swayam/projects/forest_fire_spread/datasets/dataset_unstacked/weather/era5_2016_05_09.tif\n"
					]
				},
				{
					"name": "stdout",
					"output_type": "stream",
					"text": [
						"✅ Saved: /home/swayam/projects/forest_fire_spread/datasets/dataset_stacked/stack_2016_05_08.tif\n"
					]
				},
				{
					"name": "stderr",
					"output_type": "stream",
					"text": [
						"2025-07-03 17:19:02,092 - INFO - Successfully loaded weather data: /home/swayam/projects/forest_fire_spread/datasets/dataset_unstacked/weather/era5_2016_05_09.tif\n",
						"2025-07-03 17:19:02,095 - INFO - Loading fire mask: /home/swayam/projects/forest_fire_spread/datasets/dataset_unstacked/fire_mask/fire_mask_2016_05_09.tif\n",
						"2025-07-03 17:19:02,243 - INFO - Successfully loaded fire mask: /home/swayam/projects/forest_fire_spread/datasets/dataset_unstacked/fire_mask/fire_mask_2016_05_09.tif\n",
						"2025-07-03 17:19:02,246 - INFO - Stacking data for date: 05_09\n",
						"2025-07-03 17:19:44,827 - INFO - Successfully saved stacked raster: /home/swayam/projects/forest_fire_spread/datasets/dataset_stacked/stack_2016_05_09.tif\n",
						"2025-07-03 17:19:44,828 - INFO - Processing date: 05_10\n",
						"2025-07-03 17:19:44,829 - INFO - Loading weather data: /home/swayam/projects/forest_fire_spread/datasets/dataset_unstacked/weather/era5_2016_05_10.tif\n"
					]
				},
				{
					"name": "stdout",
					"output_type": "stream",
					"text": [
						"✅ Saved: /home/swayam/projects/forest_fire_spread/datasets/dataset_stacked/stack_2016_05_09.tif\n"
					]
				},
				{
					"name": "stderr",
					"output_type": "stream",
					"text": [
						"2025-07-03 17:19:49,441 - INFO - Successfully loaded weather data: /home/swayam/projects/forest_fire_spread/datasets/dataset_unstacked/weather/era5_2016_05_10.tif\n",
						"2025-07-03 17:19:49,444 - INFO - Loading fire mask: /home/swayam/projects/forest_fire_spread/datasets/dataset_unstacked/fire_mask/fire_mask_2016_05_10.tif\n",
						"2025-07-03 17:19:49,591 - INFO - Successfully loaded fire mask: /home/swayam/projects/forest_fire_spread/datasets/dataset_unstacked/fire_mask/fire_mask_2016_05_10.tif\n",
						"2025-07-03 17:19:49,594 - INFO - Stacking data for date: 05_10\n",
						"2025-07-03 17:20:32,844 - INFO - Successfully saved stacked raster: /home/swayam/projects/forest_fire_spread/datasets/dataset_stacked/stack_2016_05_10.tif\n",
						"2025-07-03 17:20:32,845 - INFO - Processing date: 05_11\n",
						"2025-07-03 17:20:32,846 - INFO - Loading weather data: /home/swayam/projects/forest_fire_spread/datasets/dataset_unstacked/weather/era5_2016_05_11.tif\n"
					]
				},
				{
					"name": "stdout",
					"output_type": "stream",
					"text": [
						"✅ Saved: /home/swayam/projects/forest_fire_spread/datasets/dataset_stacked/stack_2016_05_10.tif\n"
					]
				},
				{
					"name": "stderr",
					"output_type": "stream",
					"text": [
						"2025-07-03 17:20:37,631 - INFO - Successfully loaded weather data: /home/swayam/projects/forest_fire_spread/datasets/dataset_unstacked/weather/era5_2016_05_11.tif\n",
						"2025-07-03 17:20:37,634 - INFO - Loading fire mask: /home/swayam/projects/forest_fire_spread/datasets/dataset_unstacked/fire_mask/fire_mask_2016_05_11.tif\n",
						"2025-07-03 17:20:37,782 - INFO - Successfully loaded fire mask: /home/swayam/projects/forest_fire_spread/datasets/dataset_unstacked/fire_mask/fire_mask_2016_05_11.tif\n",
						"2025-07-03 17:20:37,785 - INFO - Stacking data for date: 05_11\n",
						"2025-07-03 17:21:21,024 - INFO - Successfully saved stacked raster: /home/swayam/projects/forest_fire_spread/datasets/dataset_stacked/stack_2016_05_11.tif\n",
						"2025-07-03 17:21:21,024 - INFO - Processing date: 05_12\n",
						"2025-07-03 17:21:21,025 - INFO - Loading weather data: /home/swayam/projects/forest_fire_spread/datasets/dataset_unstacked/weather/era5_2016_05_12.tif\n"
					]
				},
				{
					"name": "stdout",
					"output_type": "stream",
					"text": [
						"✅ Saved: /home/swayam/projects/forest_fire_spread/datasets/dataset_stacked/stack_2016_05_11.tif\n"
					]
				},
				{
					"name": "stderr",
					"output_type": "stream",
					"text": [
						"2025-07-03 17:21:25,616 - INFO - Successfully loaded weather data: /home/swayam/projects/forest_fire_spread/datasets/dataset_unstacked/weather/era5_2016_05_12.tif\n",
						"2025-07-03 17:21:25,619 - INFO - Loading fire mask: /home/swayam/projects/forest_fire_spread/datasets/dataset_unstacked/fire_mask/fire_mask_2016_05_12.tif\n",
						"2025-07-03 17:21:25,763 - INFO - Successfully loaded fire mask: /home/swayam/projects/forest_fire_spread/datasets/dataset_unstacked/fire_mask/fire_mask_2016_05_12.tif\n",
						"2025-07-03 17:21:25,766 - INFO - Stacking data for date: 05_12\n",
						"2025-07-03 17:22:09,388 - INFO - Successfully saved stacked raster: /home/swayam/projects/forest_fire_spread/datasets/dataset_stacked/stack_2016_05_12.tif\n",
						"2025-07-03 17:22:09,389 - INFO - Processing date: 05_13\n",
						"2025-07-03 17:22:09,391 - INFO - Loading weather data: /home/swayam/projects/forest_fire_spread/datasets/dataset_unstacked/weather/era5_2016_05_13.tif\n"
					]
				},
				{
					"name": "stdout",
					"output_type": "stream",
					"text": [
						"✅ Saved: /home/swayam/projects/forest_fire_spread/datasets/dataset_stacked/stack_2016_05_12.tif\n"
					]
				},
				{
					"name": "stderr",
					"output_type": "stream",
					"text": [
						"2025-07-03 17:22:14,066 - INFO - Successfully loaded weather data: /home/swayam/projects/forest_fire_spread/datasets/dataset_unstacked/weather/era5_2016_05_13.tif\n",
						"2025-07-03 17:22:14,069 - INFO - Loading fire mask: /home/swayam/projects/forest_fire_spread/datasets/dataset_unstacked/fire_mask/fire_mask_2016_05_13.tif\n",
						"2025-07-03 17:22:14,218 - INFO - Successfully loaded fire mask: /home/swayam/projects/forest_fire_spread/datasets/dataset_unstacked/fire_mask/fire_mask_2016_05_13.tif\n",
						"2025-07-03 17:22:14,221 - INFO - Stacking data for date: 05_13\n",
						"2025-07-03 17:22:57,453 - INFO - Successfully saved stacked raster: /home/swayam/projects/forest_fire_spread/datasets/dataset_stacked/stack_2016_05_13.tif\n",
						"2025-07-03 17:22:57,454 - INFO - Processing date: 05_14\n",
						"2025-07-03 17:22:57,456 - INFO - Loading weather data: /home/swayam/projects/forest_fire_spread/datasets/dataset_unstacked/weather/era5_2016_05_14.tif\n"
					]
				},
				{
					"name": "stdout",
					"output_type": "stream",
					"text": [
						"✅ Saved: /home/swayam/projects/forest_fire_spread/datasets/dataset_stacked/stack_2016_05_13.tif\n"
					]
				},
				{
					"name": "stderr",
					"output_type": "stream",
					"text": [
						"2025-07-03 17:23:02,110 - INFO - Successfully loaded weather data: /home/swayam/projects/forest_fire_spread/datasets/dataset_unstacked/weather/era5_2016_05_14.tif\n",
						"2025-07-03 17:23:02,113 - INFO - Loading fire mask: /home/swayam/projects/forest_fire_spread/datasets/dataset_unstacked/fire_mask/fire_mask_2016_05_14.tif\n",
						"2025-07-03 17:23:02,266 - INFO - Successfully loaded fire mask: /home/swayam/projects/forest_fire_spread/datasets/dataset_unstacked/fire_mask/fire_mask_2016_05_14.tif\n",
						"2025-07-03 17:23:02,269 - INFO - Stacking data for date: 05_14\n",
						"2025-07-03 17:23:46,053 - INFO - Successfully saved stacked raster: /home/swayam/projects/forest_fire_spread/datasets/dataset_stacked/stack_2016_05_14.tif\n",
						"2025-07-03 17:23:46,054 - INFO - Processing date: 05_15\n",
						"2025-07-03 17:23:46,055 - INFO - Loading weather data: /home/swayam/projects/forest_fire_spread/datasets/dataset_unstacked/weather/era5_2016_05_15.tif\n"
					]
				},
				{
					"name": "stdout",
					"output_type": "stream",
					"text": [
						"✅ Saved: /home/swayam/projects/forest_fire_spread/datasets/dataset_stacked/stack_2016_05_14.tif\n"
					]
				},
				{
					"name": "stderr",
					"output_type": "stream",
					"text": [
						"2025-07-03 17:23:50,745 - INFO - Successfully loaded weather data: /home/swayam/projects/forest_fire_spread/datasets/dataset_unstacked/weather/era5_2016_05_15.tif\n",
						"2025-07-03 17:23:50,748 - INFO - Loading fire mask: /home/swayam/projects/forest_fire_spread/datasets/dataset_unstacked/fire_mask/fire_mask_2016_05_15.tif\n",
						"2025-07-03 17:23:50,909 - INFO - Successfully loaded fire mask: /home/swayam/projects/forest_fire_spread/datasets/dataset_unstacked/fire_mask/fire_mask_2016_05_15.tif\n",
						"2025-07-03 17:23:50,912 - INFO - Stacking data for date: 05_15\n",
						"2025-07-03 17:24:34,882 - INFO - Successfully saved stacked raster: /home/swayam/projects/forest_fire_spread/datasets/dataset_stacked/stack_2016_05_15.tif\n",
						"2025-07-03 17:24:34,883 - INFO - Processing date: 05_16\n",
						"2025-07-03 17:24:34,884 - INFO - Loading weather data: /home/swayam/projects/forest_fire_spread/datasets/dataset_unstacked/weather/era5_2016_05_16.tif\n"
					]
				},
				{
					"name": "stdout",
					"output_type": "stream",
					"text": [
						"✅ Saved: /home/swayam/projects/forest_fire_spread/datasets/dataset_stacked/stack_2016_05_15.tif\n"
					]
				},
				{
					"name": "stderr",
					"output_type": "stream",
					"text": [
						"2025-07-03 17:24:39,553 - INFO - Successfully loaded weather data: /home/swayam/projects/forest_fire_spread/datasets/dataset_unstacked/weather/era5_2016_05_16.tif\n",
						"2025-07-03 17:24:39,555 - INFO - Loading fire mask: /home/swayam/projects/forest_fire_spread/datasets/dataset_unstacked/fire_mask/fire_mask_2016_05_16.tif\n",
						"2025-07-03 17:24:39,718 - INFO - Successfully loaded fire mask: /home/swayam/projects/forest_fire_spread/datasets/dataset_unstacked/fire_mask/fire_mask_2016_05_16.tif\n",
						"2025-07-03 17:24:39,721 - INFO - Stacking data for date: 05_16\n",
						"2025-07-03 17:25:28,484 - INFO - Successfully saved stacked raster: /home/swayam/projects/forest_fire_spread/datasets/dataset_stacked/stack_2016_05_16.tif\n",
						"2025-07-03 17:25:28,485 - INFO - Processing date: 05_17\n",
						"2025-07-03 17:25:28,486 - INFO - Loading weather data: /home/swayam/projects/forest_fire_spread/datasets/dataset_unstacked/weather/era5_2016_05_17.tif\n"
					]
				},
				{
					"name": "stdout",
					"output_type": "stream",
					"text": [
						"✅ Saved: /home/swayam/projects/forest_fire_spread/datasets/dataset_stacked/stack_2016_05_16.tif\n"
					]
				},
				{
					"name": "stderr",
					"output_type": "stream",
					"text": [
						"2025-07-03 17:25:33,301 - INFO - Successfully loaded weather data: /home/swayam/projects/forest_fire_spread/datasets/dataset_unstacked/weather/era5_2016_05_17.tif\n",
						"2025-07-03 17:25:33,305 - INFO - Loading fire mask: /home/swayam/projects/forest_fire_spread/datasets/dataset_unstacked/fire_mask/fire_mask_2016_05_17.tif\n",
						"2025-07-03 17:25:33,522 - INFO - Successfully loaded fire mask: /home/swayam/projects/forest_fire_spread/datasets/dataset_unstacked/fire_mask/fire_mask_2016_05_17.tif\n",
						"2025-07-03 17:25:33,525 - INFO - Stacking data for date: 05_17\n",
						"2025-07-03 17:26:16,885 - INFO - Successfully saved stacked raster: /home/swayam/projects/forest_fire_spread/datasets/dataset_stacked/stack_2016_05_17.tif\n",
						"2025-07-03 17:26:16,886 - INFO - Processing date: 05_18\n",
						"2025-07-03 17:26:16,887 - INFO - Loading weather data: /home/swayam/projects/forest_fire_spread/datasets/dataset_unstacked/weather/era5_2016_05_18.tif\n"
					]
				},
				{
					"name": "stdout",
					"output_type": "stream",
					"text": [
						"✅ Saved: /home/swayam/projects/forest_fire_spread/datasets/dataset_stacked/stack_2016_05_17.tif\n"
					]
				},
				{
					"name": "stderr",
					"output_type": "stream",
					"text": [
						"2025-07-03 17:26:21,521 - INFO - Successfully loaded weather data: /home/swayam/projects/forest_fire_spread/datasets/dataset_unstacked/weather/era5_2016_05_18.tif\n",
						"2025-07-03 17:26:21,524 - INFO - Loading fire mask: /home/swayam/projects/forest_fire_spread/datasets/dataset_unstacked/fire_mask/fire_mask_2016_05_18.tif\n",
						"2025-07-03 17:26:21,692 - INFO - Successfully loaded fire mask: /home/swayam/projects/forest_fire_spread/datasets/dataset_unstacked/fire_mask/fire_mask_2016_05_18.tif\n",
						"2025-07-03 17:26:21,694 - INFO - Stacking data for date: 05_18\n",
						"2025-07-03 17:27:05,999 - INFO - Successfully saved stacked raster: /home/swayam/projects/forest_fire_spread/datasets/dataset_stacked/stack_2016_05_18.tif\n",
						"2025-07-03 17:27:06,000 - INFO - Processing date: 05_19\n",
						"2025-07-03 17:27:06,001 - INFO - Loading weather data: /home/swayam/projects/forest_fire_spread/datasets/dataset_unstacked/weather/era5_2016_05_19.tif\n"
					]
				},
				{
					"name": "stdout",
					"output_type": "stream",
					"text": [
						"✅ Saved: /home/swayam/projects/forest_fire_spread/datasets/dataset_stacked/stack_2016_05_18.tif\n"
					]
				},
				{
					"name": "stderr",
					"output_type": "stream",
					"text": [
						"2025-07-03 17:27:10,669 - INFO - Successfully loaded weather data: /home/swayam/projects/forest_fire_spread/datasets/dataset_unstacked/weather/era5_2016_05_19.tif\n",
						"2025-07-03 17:27:10,672 - INFO - Loading fire mask: /home/swayam/projects/forest_fire_spread/datasets/dataset_unstacked/fire_mask/fire_mask_2016_05_19.tif\n",
						"2025-07-03 17:27:10,828 - INFO - Successfully loaded fire mask: /home/swayam/projects/forest_fire_spread/datasets/dataset_unstacked/fire_mask/fire_mask_2016_05_19.tif\n",
						"2025-07-03 17:27:10,830 - INFO - Stacking data for date: 05_19\n",
						"2025-07-03 17:27:54,277 - INFO - Successfully saved stacked raster: /home/swayam/projects/forest_fire_spread/datasets/dataset_stacked/stack_2016_05_19.tif\n",
						"2025-07-03 17:27:54,278 - INFO - Processing date: 05_20\n",
						"2025-07-03 17:27:54,278 - INFO - Loading weather data: /home/swayam/projects/forest_fire_spread/datasets/dataset_unstacked/weather/era5_2016_05_20.tif\n"
					]
				},
				{
					"name": "stdout",
					"output_type": "stream",
					"text": [
						"✅ Saved: /home/swayam/projects/forest_fire_spread/datasets/dataset_stacked/stack_2016_05_19.tif\n"
					]
				},
				{
					"name": "stderr",
					"output_type": "stream",
					"text": [
						"2025-07-03 17:27:58,969 - INFO - Successfully loaded weather data: /home/swayam/projects/forest_fire_spread/datasets/dataset_unstacked/weather/era5_2016_05_20.tif\n",
						"2025-07-03 17:27:58,972 - INFO - Loading fire mask: /home/swayam/projects/forest_fire_spread/datasets/dataset_unstacked/fire_mask/fire_mask_2016_05_20.tif\n",
						"2025-07-03 17:27:59,130 - INFO - Successfully loaded fire mask: /home/swayam/projects/forest_fire_spread/datasets/dataset_unstacked/fire_mask/fire_mask_2016_05_20.tif\n",
						"2025-07-03 17:27:59,133 - INFO - Stacking data for date: 05_20\n",
						"2025-07-03 17:28:42,333 - INFO - Successfully saved stacked raster: /home/swayam/projects/forest_fire_spread/datasets/dataset_stacked/stack_2016_05_20.tif\n",
						"2025-07-03 17:28:42,334 - INFO - Processing date: 05_21\n",
						"2025-07-03 17:28:42,335 - INFO - Loading weather data: /home/swayam/projects/forest_fire_spread/datasets/dataset_unstacked/weather/era5_2016_05_21.tif\n"
					]
				},
				{
					"name": "stdout",
					"output_type": "stream",
					"text": [
						"✅ Saved: /home/swayam/projects/forest_fire_spread/datasets/dataset_stacked/stack_2016_05_20.tif\n"
					]
				},
				{
					"name": "stderr",
					"output_type": "stream",
					"text": [
						"2025-07-03 17:28:47,041 - INFO - Successfully loaded weather data: /home/swayam/projects/forest_fire_spread/datasets/dataset_unstacked/weather/era5_2016_05_21.tif\n",
						"2025-07-03 17:28:47,044 - INFO - Loading fire mask: /home/swayam/projects/forest_fire_spread/datasets/dataset_unstacked/fire_mask/fire_mask_2016_05_21.tif\n",
						"2025-07-03 17:28:47,198 - INFO - Successfully loaded fire mask: /home/swayam/projects/forest_fire_spread/datasets/dataset_unstacked/fire_mask/fire_mask_2016_05_21.tif\n",
						"2025-07-03 17:28:47,201 - INFO - Stacking data for date: 05_21\n",
						"2025-07-03 17:29:30,812 - INFO - Successfully saved stacked raster: /home/swayam/projects/forest_fire_spread/datasets/dataset_stacked/stack_2016_05_21.tif\n",
						"2025-07-03 17:29:30,813 - INFO - Processing date: 05_22\n",
						"2025-07-03 17:29:30,814 - INFO - Loading weather data: /home/swayam/projects/forest_fire_spread/datasets/dataset_unstacked/weather/era5_2016_05_22.tif\n"
					]
				},
				{
					"name": "stdout",
					"output_type": "stream",
					"text": [
						"✅ Saved: /home/swayam/projects/forest_fire_spread/datasets/dataset_stacked/stack_2016_05_21.tif\n"
					]
				},
				{
					"name": "stderr",
					"output_type": "stream",
					"text": [
						"2025-07-03 17:29:35,546 - INFO - Successfully loaded weather data: /home/swayam/projects/forest_fire_spread/datasets/dataset_unstacked/weather/era5_2016_05_22.tif\n",
						"2025-07-03 17:29:35,549 - INFO - Loading fire mask: /home/swayam/projects/forest_fire_spread/datasets/dataset_unstacked/fire_mask/fire_mask_2016_05_22.tif\n",
						"2025-07-03 17:29:35,698 - INFO - Successfully loaded fire mask: /home/swayam/projects/forest_fire_spread/datasets/dataset_unstacked/fire_mask/fire_mask_2016_05_22.tif\n",
						"2025-07-03 17:29:35,701 - INFO - Stacking data for date: 05_22\n",
						"2025-07-03 17:30:19,157 - INFO - Successfully saved stacked raster: /home/swayam/projects/forest_fire_spread/datasets/dataset_stacked/stack_2016_05_22.tif\n",
						"2025-07-03 17:30:19,158 - INFO - Processing date: 05_23\n",
						"2025-07-03 17:30:19,159 - INFO - Loading weather data: /home/swayam/projects/forest_fire_spread/datasets/dataset_unstacked/weather/era5_2016_05_23.tif\n"
					]
				},
				{
					"name": "stdout",
					"output_type": "stream",
					"text": [
						"✅ Saved: /home/swayam/projects/forest_fire_spread/datasets/dataset_stacked/stack_2016_05_22.tif\n"
					]
				},
				{
					"name": "stderr",
					"output_type": "stream",
					"text": [
						"2025-07-03 17:30:23,770 - INFO - Successfully loaded weather data: /home/swayam/projects/forest_fire_spread/datasets/dataset_unstacked/weather/era5_2016_05_23.tif\n",
						"2025-07-03 17:30:23,773 - INFO - Loading fire mask: /home/swayam/projects/forest_fire_spread/datasets/dataset_unstacked/fire_mask/fire_mask_2016_05_23.tif\n",
						"2025-07-03 17:30:23,925 - INFO - Successfully loaded fire mask: /home/swayam/projects/forest_fire_spread/datasets/dataset_unstacked/fire_mask/fire_mask_2016_05_23.tif\n",
						"2025-07-03 17:30:23,928 - INFO - Stacking data for date: 05_23\n",
						"2025-07-03 17:31:06,891 - INFO - Successfully saved stacked raster: /home/swayam/projects/forest_fire_spread/datasets/dataset_stacked/stack_2016_05_23.tif\n",
						"2025-07-03 17:31:06,892 - INFO - Processing date: 05_24\n",
						"2025-07-03 17:31:06,893 - INFO - Loading weather data: /home/swayam/projects/forest_fire_spread/datasets/dataset_unstacked/weather/era5_2016_05_24.tif\n"
					]
				},
				{
					"name": "stdout",
					"output_type": "stream",
					"text": [
						"✅ Saved: /home/swayam/projects/forest_fire_spread/datasets/dataset_stacked/stack_2016_05_23.tif\n"
					]
				},
				{
					"name": "stderr",
					"output_type": "stream",
					"text": [
						"2025-07-03 17:31:11,560 - INFO - Successfully loaded weather data: /home/swayam/projects/forest_fire_spread/datasets/dataset_unstacked/weather/era5_2016_05_24.tif\n",
						"2025-07-03 17:31:11,563 - INFO - Loading fire mask: /home/swayam/projects/forest_fire_spread/datasets/dataset_unstacked/fire_mask/fire_mask_2016_05_24.tif\n",
						"2025-07-03 17:31:11,709 - INFO - Successfully loaded fire mask: /home/swayam/projects/forest_fire_spread/datasets/dataset_unstacked/fire_mask/fire_mask_2016_05_24.tif\n",
						"2025-07-03 17:31:11,711 - INFO - Stacking data for date: 05_24\n",
						"2025-07-03 17:31:55,216 - INFO - Successfully saved stacked raster: /home/swayam/projects/forest_fire_spread/datasets/dataset_stacked/stack_2016_05_24.tif\n",
						"2025-07-03 17:31:55,216 - INFO - Processing date: 05_25\n",
						"2025-07-03 17:31:55,217 - INFO - Loading weather data: /home/swayam/projects/forest_fire_spread/datasets/dataset_unstacked/weather/era5_2016_05_25.tif\n"
					]
				},
				{
					"name": "stdout",
					"output_type": "stream",
					"text": [
						"✅ Saved: /home/swayam/projects/forest_fire_spread/datasets/dataset_stacked/stack_2016_05_24.tif\n"
					]
				},
				{
					"name": "stderr",
					"output_type": "stream",
					"text": [
						"2025-07-03 17:31:59,905 - INFO - Successfully loaded weather data: /home/swayam/projects/forest_fire_spread/datasets/dataset_unstacked/weather/era5_2016_05_25.tif\n",
						"2025-07-03 17:31:59,908 - INFO - Loading fire mask: /home/swayam/projects/forest_fire_spread/datasets/dataset_unstacked/fire_mask/fire_mask_2016_05_25.tif\n",
						"2025-07-03 17:32:00,052 - INFO - Successfully loaded fire mask: /home/swayam/projects/forest_fire_spread/datasets/dataset_unstacked/fire_mask/fire_mask_2016_05_25.tif\n",
						"2025-07-03 17:32:00,055 - INFO - Stacking data for date: 05_25\n",
						"2025-07-03 17:32:44,252 - INFO - Successfully saved stacked raster: /home/swayam/projects/forest_fire_spread/datasets/dataset_stacked/stack_2016_05_25.tif\n",
						"2025-07-03 17:32:44,253 - INFO - Processing date: 05_26\n",
						"2025-07-03 17:32:44,253 - INFO - Loading weather data: /home/swayam/projects/forest_fire_spread/datasets/dataset_unstacked/weather/era5_2016_05_26.tif\n"
					]
				},
				{
					"name": "stdout",
					"output_type": "stream",
					"text": [
						"✅ Saved: /home/swayam/projects/forest_fire_spread/datasets/dataset_stacked/stack_2016_05_25.tif\n"
					]
				},
				{
					"name": "stderr",
					"output_type": "stream",
					"text": [
						"2025-07-03 17:32:48,956 - INFO - Successfully loaded weather data: /home/swayam/projects/forest_fire_spread/datasets/dataset_unstacked/weather/era5_2016_05_26.tif\n",
						"2025-07-03 17:32:48,959 - INFO - Loading fire mask: /home/swayam/projects/forest_fire_spread/datasets/dataset_unstacked/fire_mask/fire_mask_2016_05_26.tif\n",
						"2025-07-03 17:32:49,152 - INFO - Successfully loaded fire mask: /home/swayam/projects/forest_fire_spread/datasets/dataset_unstacked/fire_mask/fire_mask_2016_05_26.tif\n",
						"2025-07-03 17:32:49,155 - INFO - Stacking data for date: 05_26\n",
						"2025-07-03 17:33:34,597 - INFO - Successfully saved stacked raster: /home/swayam/projects/forest_fire_spread/datasets/dataset_stacked/stack_2016_05_26.tif\n",
						"2025-07-03 17:33:34,598 - INFO - Processing date: 05_27\n",
						"2025-07-03 17:33:34,599 - INFO - Loading weather data: /home/swayam/projects/forest_fire_spread/datasets/dataset_unstacked/weather/era5_2016_05_27.tif\n"
					]
				},
				{
					"name": "stdout",
					"output_type": "stream",
					"text": [
						"✅ Saved: /home/swayam/projects/forest_fire_spread/datasets/dataset_stacked/stack_2016_05_26.tif\n"
					]
				},
				{
					"name": "stderr",
					"output_type": "stream",
					"text": [
						"2025-07-03 17:33:39,227 - INFO - Successfully loaded weather data: /home/swayam/projects/forest_fire_spread/datasets/dataset_unstacked/weather/era5_2016_05_27.tif\n",
						"2025-07-03 17:33:39,230 - INFO - Loading fire mask: /home/swayam/projects/forest_fire_spread/datasets/dataset_unstacked/fire_mask/fire_mask_2016_05_27.tif\n",
						"2025-07-03 17:33:39,385 - INFO - Successfully loaded fire mask: /home/swayam/projects/forest_fire_spread/datasets/dataset_unstacked/fire_mask/fire_mask_2016_05_27.tif\n",
						"2025-07-03 17:33:39,387 - INFO - Stacking data for date: 05_27\n",
						"2025-07-03 17:34:26,226 - INFO - Successfully saved stacked raster: /home/swayam/projects/forest_fire_spread/datasets/dataset_stacked/stack_2016_05_27.tif\n",
						"2025-07-03 17:34:26,227 - INFO - Processing date: 05_28\n",
						"2025-07-03 17:34:26,228 - INFO - Loading weather data: /home/swayam/projects/forest_fire_spread/datasets/dataset_unstacked/weather/era5_2016_05_28.tif\n"
					]
				},
				{
					"name": "stdout",
					"output_type": "stream",
					"text": [
						"✅ Saved: /home/swayam/projects/forest_fire_spread/datasets/dataset_stacked/stack_2016_05_27.tif\n"
					]
				},
				{
					"name": "stderr",
					"output_type": "stream",
					"text": [
						"2025-07-03 17:34:31,341 - INFO - Successfully loaded weather data: /home/swayam/projects/forest_fire_spread/datasets/dataset_unstacked/weather/era5_2016_05_28.tif\n",
						"2025-07-03 17:34:31,344 - INFO - Loading fire mask: /home/swayam/projects/forest_fire_spread/datasets/dataset_unstacked/fire_mask/fire_mask_2016_05_28.tif\n",
						"2025-07-03 17:34:31,510 - INFO - Successfully loaded fire mask: /home/swayam/projects/forest_fire_spread/datasets/dataset_unstacked/fire_mask/fire_mask_2016_05_28.tif\n",
						"2025-07-03 17:34:31,513 - INFO - Stacking data for date: 05_28\n",
						"2025-07-03 17:35:16,918 - INFO - Successfully saved stacked raster: /home/swayam/projects/forest_fire_spread/datasets/dataset_stacked/stack_2016_05_28.tif\n",
						"2025-07-03 17:35:16,919 - INFO - Processing date: 05_29\n",
						"2025-07-03 17:35:16,921 - INFO - Loading weather data: /home/swayam/projects/forest_fire_spread/datasets/dataset_unstacked/weather/era5_2016_05_29.tif\n"
					]
				},
				{
					"name": "stdout",
					"output_type": "stream",
					"text": [
						"✅ Saved: /home/swayam/projects/forest_fire_spread/datasets/dataset_stacked/stack_2016_05_28.tif\n"
					]
				},
				{
					"name": "stderr",
					"output_type": "stream",
					"text": [
						"2025-07-03 17:35:21,778 - INFO - Successfully loaded weather data: /home/swayam/projects/forest_fire_spread/datasets/dataset_unstacked/weather/era5_2016_05_29.tif\n",
						"2025-07-03 17:35:21,781 - INFO - Loading fire mask: /home/swayam/projects/forest_fire_spread/datasets/dataset_unstacked/fire_mask/fire_mask_2016_05_29.tif\n",
						"2025-07-03 17:35:21,953 - INFO - Successfully loaded fire mask: /home/swayam/projects/forest_fire_spread/datasets/dataset_unstacked/fire_mask/fire_mask_2016_05_29.tif\n",
						"2025-07-03 17:35:21,956 - INFO - Stacking data for date: 05_29\n",
						"2025-07-03 17:36:06,111 - INFO - Successfully saved stacked raster: /home/swayam/projects/forest_fire_spread/datasets/dataset_stacked/stack_2016_05_29.tif\n",
						"2025-07-03 17:36:06,133 - INFO - Processing complete.\n"
					]
				},
				{
					"name": "stdout",
					"output_type": "stream",
					"text": [
						"✅ Saved: /home/swayam/projects/forest_fire_spread/datasets/dataset_stacked/stack_2016_05_29.tif\n"
					]
				}
			],
			"source": [
				"# @title Create Stacked Image\n",
				"weather_files = sorted(glob.glob(f\"{weather_dir}/era5_2016_*.tif\"))\n",
				"\n",
				"nodata_value = -9999\n",
				"\n",
				"if not weather_files:\n",
				"    print(\"No weather files found!\")\n",
				"    exit()\n",
				"\n",
				"# Get list of date strings\n",
				"date_strs = [os.path.basename(wf).replace('era5_2016_', '').replace('.tif', '') for wf in weather_files]\n",
				"logger.info(f\"Found {len(date_strs)} weather files to process.\")\n",
				"\n",
				"# Loop to process data\n",
				"for date_str in date_strs:\n",
				"    weather_path = os.path.join(weather_dir, f'era5_2016_{date_str}.tif')\n",
				"    fire_path = os.path.join(fire_mask_dir, f'fire_mask_2016_{date_str}.tif')\n",
				"\n",
				"    logger.info(f\"Processing date: {date_str}\")\n",
				"\n",
				"    if not os.path.exists(weather_path):\n",
				"        logger.warning(f\"Skipping {date_str}: weather missing at {weather_path}\")\n",
				"        continue\n",
				"\n",
				"    if not os.path.exists(fire_path):\n",
				"        logger.warning(f\"Skipping {date_str}: fire mask missing at {fire_path}\")\n",
				"        continue\n",
				"\n",
				"    # Load weather data (5 bands)\n",
				"    try:\n",
				"        logger.info(f\"Loading weather data: {weather_path}\")\n",
				"        with rasterio.open(weather_path) as w_src:\n",
				"            weather = w_src.read()  # Read all 5 bands\n",
				"            if weather.shape[0] != 5 or weather.shape[1:] != ref_shape:\n",
				"                raise ValueError(f\"Weather data shape {weather.shape} does not match reference shape {ref_shape}\")\n",
				"            logger.info(f\"Successfully loaded weather data: {weather_path}\")\n",
				"    except Exception as e:\n",
				"        logger.error(f\"Failed to load resampled weather data for {date_str}: {str(e)}\")\n",
				"        continue\n",
				"\n",
				"    # Load fire mask (1 band)\n",
				"    try:\n",
				"        logger.info(f\"Loading fire mask: {fire_path}\")\n",
				"        with rasterio.open(fire_path) as fm_src:\n",
				"            fire = fm_src.read(1)  # Read single band\n",
				"            if fire.shape != ref_shape:\n",
				"                raise ValueError(f\"Fire mask shape {fire.shape} does not match reference shape {ref_shape}\")\n",
				"            logger.info(f\"Successfully loaded fire mask: {fire_path}\")\n",
				"    except Exception as e:\n",
				"        logger.error(f\"Failed to load resampled fire mask for {date_str}: {str(e)}\")\n",
				"        continue\n",
				"\n",
				"    # Stack and save with logging\n",
				"    try:\n",
				"        logger.info(f\"Stacking data for date: {date_str}\")\n",
				"\n",
				"        # Fill masked arrays\n",
				"        slope_filled = slope.filled(nodata_value)\n",
				"        aspect_filled = aspect.filled(nodata_value)\n",
				"        fuel_filled = fuel.filled(nodata_value)\n",
				"        ghsl_filled = ghsl.filled(nodata_value)\n",
				"        fire_filled = fire  # Already a regular array\n",
				"\n",
				"        out_path = os.path.join(output_dir, f'stack_2016_{date_str}.tif')\n",
				"        \n",
				"        # Stack into one array (10 bands)\n",
				"        stacked = np.stack([\n",
				"            *weather, # 1-5 Bands\n",
				"            slope_filled, # 6 Band\n",
				"            aspect_filled, # 7 Band\n",
				"            fuel_filled, # 8 Band\n",
				"            ghsl_filled, # 9 Band\n",
				"            fire_filled # 10 Band\n",
				"        ])\n",
				"\n",
				"        # Update metadata\n",
				"        ref_meta.update({\n",
				"            'count': 10,\n",
				"            'dtype': 'float32',\n",
				"            'compress': 'deflate',     # Use DEFLATE\n",
				"            'predictor': 2,            # Helps float compression\n",
				"            'zlevel': 6,                # Compression level (1–9), 6 = balanced\n",
				"            \"nodata\": nodata_value\n",
				"        })\n",
				"\n",
				"        # Save\n",
				"        with rasterio.open(out_path, 'w', **ref_meta) as dst:\n",
				"            dst.write(stacked.astype('float32'))\n",
				"\n",
				"        logger.info(f\"Successfully saved stacked raster: {out_path}\")\n",
				"        print(f\"✅ Saved: {out_path}\")\n",
				"    except Exception as e:\n",
				"        logger.error(f\"Failed to stack or save data for {date_str}: {str(e)}\")\n",
				"        continue\n",
				"\n",
				"    w_src.close()\n",
				"    fm_src.close()\n",
				"\n",
				"s.close()\n",
				"a.close()\n",
				"f.close()\n",
				"g.close()\n",
				"\n",
				"logger.info(\"Processing complete.\")"
			]
		},
		{
			"cell_type": "code",
			"execution_count": null,
			"metadata": {},
			"outputs": [],
			"source": []
		}
	],
	"metadata": {
		"accelerator": "GPU",
		"colab": {
			"gpuType": "T4",
			"provenance": []
		},
		"kernelspec": {
			"display_name": "Python 3 (ipykernel)",
			"language": "python",
			"name": "python3"
		},
		"language_info": {
			"codemirror_mode": {
				"name": "ipython",
				"version": 3
			},
			"file_extension": ".py",
			"mimetype": "text/x-python",
			"name": "python",
			"nbconvert_exporter": "python",
			"pygments_lexer": "ipython3",
			"version": "3.9.15"
		}
	},
	"nbformat": 4,
	"nbformat_minor": 4
}
