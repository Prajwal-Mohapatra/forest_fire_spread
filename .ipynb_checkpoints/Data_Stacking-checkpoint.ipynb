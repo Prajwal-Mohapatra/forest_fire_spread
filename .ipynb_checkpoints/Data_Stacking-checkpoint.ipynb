{
  "nbformat": 4,
  "nbformat_minor": 0,
  "metadata": {
    "colab": {
      "provenance": [],
      "gpuType": "T4"
    },
    "kernelspec": {
      "name": "python3",
      "display_name": "Python 3"
    },
    "language_info": {
      "name": "python"
    },
    "accelerator": "GPU"
  },
  "cells": [
    {
      "cell_type": "code",
      "execution_count": 2,
      "metadata": {
        "id": "kK8FYbGat1Eb"
      },
      "outputs": [],
      "source": [
        "# @title Installing Dependencies\n",
        "!pip install opendatasets rasterio --quiet"
      ]
    },
    {
      "cell_type": "code",
      "source": [
        "# @title Dataset-Loading\n",
        "import opendatasets as od\n",
        "od.download(\"https://www.kaggle.com/datasets/prajwalmohapatra/fire-probability-prediction-map-unstacked-data/data\")"
      ],
      "metadata": {
        "id": "WTJtvj_7uPGe",
        "colab": {
          "base_uri": "https://localhost:8080/"
        },
        "outputId": "5e130d63-1789-4ae4-9adf-ad404e5635c3"
      },
      "execution_count": 3,
      "outputs": [
        {
          "output_type": "stream",
          "name": "stdout",
          "text": [
            "Please provide your Kaggle credentials to download this dataset. Learn more: http://bit.ly/kaggle-creds\n",
            "Your Kaggle username: swayamsahoo\n",
            "Your Kaggle Key: ··········\n",
            "Dataset URL: https://www.kaggle.com/datasets/prajwalmohapatra/fire-probability-prediction-map-unstacked-data\n",
            "Downloading fire-probability-prediction-map-unstacked-data.zip to ./fire-probability-prediction-map-unstacked-data\n"
          ]
        },
        {
          "output_type": "stream",
          "name": "stderr",
          "text": [
            "100%|██████████| 1.13G/1.13G [00:16<00:00, 71.5MB/s]\n"
          ]
        },
        {
          "output_type": "stream",
          "name": "stdout",
          "text": [
            "\n"
          ]
        }
      ]
    },
    {
      "cell_type": "code",
      "source": [
        "# @title Dependencies\n",
        "import rasterio\n",
        "import numpy as np\n",
        "import os\n",
        "import glob\n",
        "import logging\n",
        "\n",
        "from rasterio.warp import reproject, Resampling"
      ],
      "metadata": {
        "id": "pN7ACMqtuTtu"
      },
      "execution_count": 4,
      "outputs": []
    },
    {
      "cell_type": "code",
      "source": [
        "# @title Directory Setup\n",
        "# Paths\n",
        "dir = '/content/fire-probability-prediction-map-unstacked-data'\n",
        "base_dir = os.path.join(dir, 'dataset_unstacked')\n",
        "weather_dir = os.path.join(base_dir, 'weather')\n",
        "fire_mask_dir = os.path.join(base_dir, 'fire_mask')\n",
        "output_dir = os.path.join(dir, 'dataset_stacked')\n",
        "\n",
        "print(dir)\n",
        "print(base_dir)\n",
        "print(weather_dir)\n",
        "print(fire_mask_dir)\n",
        "\n",
        "# Static layers\n",
        "slope_path = os.path.join(base_dir, 'slope', 'uk_slope_2016.tif')\n",
        "aspect_path = os.path.join(base_dir, 'aspect', 'uk_aspect_2016.tif')\n",
        "fuel_path = os.path.join(base_dir, 'fuel_map', 'uk_fuel_map_2020.tif')\n",
        "ghsl_path = os.path.join(base_dir, 'ghsl', 'ghsl_uk_urbanmask2015.tif')\n",
        "\n",
        "print()\n",
        "print(slope_path)\n",
        "print(aspect_path)\n",
        "print(fuel_path)\n",
        "print(ghsl_path)\n",
        "\n",
        "# Create output directory\n",
        "os.makedirs(output_dir, exist_ok=True)"
      ],
      "metadata": {
        "id": "gi3b8SU9uaIk",
        "colab": {
          "base_uri": "https://localhost:8080/"
        },
        "outputId": "8b2782b9-512b-48dc-fac1-2c1d88ce3197"
      },
      "execution_count": 5,
      "outputs": [
        {
          "output_type": "stream",
          "name": "stdout",
          "text": [
            "/content/fire-probability-prediction-map-unstacked-data\n",
            "/content/fire-probability-prediction-map-unstacked-data/dataset_unstacked\n",
            "/content/fire-probability-prediction-map-unstacked-data/dataset_unstacked/weather\n",
            "/content/fire-probability-prediction-map-unstacked-data/dataset_unstacked/fire_mask\n",
            "\n",
            "/content/fire-probability-prediction-map-unstacked-data/dataset_unstacked/slope/uk_slope_2016.tif\n",
            "/content/fire-probability-prediction-map-unstacked-data/dataset_unstacked/aspect/uk_aspect_2016.tif\n",
            "/content/fire-probability-prediction-map-unstacked-data/dataset_unstacked/fuel_map/uk_fuel_map_2020.tif\n",
            "/content/fire-probability-prediction-map-unstacked-data/dataset_unstacked/ghsl/ghsl_uk_urbanmask2015.tif\n"
          ]
        }
      ]
    },
    {
      "cell_type": "code",
      "source": [
        "# @title Loading Static Layers\n",
        "# Load static layers once, outside the loop\n",
        "with rasterio.open(slope_path) as s:\n",
        "  slope = s.read(1, masked=True)\n",
        "  ref_meta = s.meta.copy() # Reference metadata\n",
        "  ref_shape = s.shape # Reference shape (height, width) (9551, 12917)\n",
        "  ref_transform = s.transform\n",
        "  ref_crs = s.crs\n",
        "\n",
        "  print(ref_meta)\n",
        "  # print(ref_shape)\n",
        "  # print(ref_transform)\n",
        "  # print(ref_crs)\n",
        "\n",
        "with rasterio.open(aspect_path) as a:\n",
        "  aspect = a.read(1, masked=True)\n",
        "  # print(aspect)\n",
        "  print(a.meta.copy())\n",
        "\n",
        "with rasterio.open(fuel_path) as f:\n",
        "  fuel = f.read(1, masked=True)\n",
        "  # print(fuel)\n",
        "  print(f.meta.copy())\n",
        "\n",
        "with rasterio.open(ghsl_path) as g:\n",
        "  ghsl = g.read(1, masked=True)\n",
        "  # print(ghsl)\n",
        "  print(g.meta.copy())"
      ],
      "metadata": {
        "id": "ObP7YXY-uc6Y",
        "colab": {
          "base_uri": "https://localhost:8080/"
        },
        "outputId": "9823aeca-f9bb-411d-d449-476d1daa86b8"
      },
      "execution_count": 6,
      "outputs": [
        {
          "output_type": "stream",
          "name": "stdout",
          "text": [
            "{'driver': 'GTiff', 'dtype': 'uint8', 'nodata': None, 'width': 12917, 'height': 9551, 'count': 1, 'crs': CRS.from_wkt('GEOGCS[\"WGS 84\",DATUM[\"WGS_1984\",SPHEROID[\"WGS 84\",6378137,298.257223563,AUTHORITY[\"EPSG\",\"7030\"]],AUTHORITY[\"EPSG\",\"6326\"]],PRIMEM[\"Greenwich\",0,AUTHORITY[\"EPSG\",\"8901\"]],UNIT[\"degree\",0.0174532925199433,AUTHORITY[\"EPSG\",\"9122\"]],AXIS[\"Latitude\",NORTH],AXIS[\"Longitude\",EAST],AUTHORITY[\"EPSG\",\"4326\"]]'), 'transform': Affine(0.00026949458523585647, 0.0, 77.56161960922043,\n",
            "       0.0, -0.00026949458523585647, 31.290207807979588)}\n",
            "{'driver': 'GTiff', 'dtype': 'uint16', 'nodata': None, 'width': 12917, 'height': 9551, 'count': 1, 'crs': CRS.from_wkt('GEOGCS[\"WGS 84\",DATUM[\"WGS_1984\",SPHEROID[\"WGS 84\",6378137,298.257223563,AUTHORITY[\"EPSG\",\"7030\"]],AUTHORITY[\"EPSG\",\"6326\"]],PRIMEM[\"Greenwich\",0,AUTHORITY[\"EPSG\",\"8901\"]],UNIT[\"degree\",0.0174532925199433,AUTHORITY[\"EPSG\",\"9122\"]],AXIS[\"Latitude\",NORTH],AXIS[\"Longitude\",EAST],AUTHORITY[\"EPSG\",\"4326\"]]'), 'transform': Affine(0.00026949458523585647, 0.0, 77.56161960922043,\n",
            "       0.0, -0.00026949458523585647, 31.290207807979588)}\n",
            "{'driver': 'GTiff', 'dtype': 'uint8', 'nodata': None, 'width': 12917, 'height': 9551, 'count': 1, 'crs': CRS.from_wkt('GEOGCS[\"WGS 84\",DATUM[\"WGS_1984\",SPHEROID[\"WGS 84\",6378137,298.257223563,AUTHORITY[\"EPSG\",\"7030\"]],AUTHORITY[\"EPSG\",\"6326\"]],PRIMEM[\"Greenwich\",0,AUTHORITY[\"EPSG\",\"8901\"]],UNIT[\"degree\",0.0174532925199433,AUTHORITY[\"EPSG\",\"9122\"]],AXIS[\"Latitude\",NORTH],AXIS[\"Longitude\",EAST],AUTHORITY[\"EPSG\",\"4326\"]]'), 'transform': Affine(0.00026949458523585647, 0.0, 77.56161960922043,\n",
            "       0.0, -0.00026949458523585647, 31.290207807979588)}\n",
            "{'driver': 'GTiff', 'dtype': 'uint8', 'nodata': None, 'width': 12917, 'height': 9551, 'count': 1, 'crs': CRS.from_wkt('GEOGCS[\"WGS 84\",DATUM[\"WGS_1984\",SPHEROID[\"WGS 84\",6378137,298.257223563,AUTHORITY[\"EPSG\",\"7030\"]],AUTHORITY[\"EPSG\",\"6326\"]],PRIMEM[\"Greenwich\",0,AUTHORITY[\"EPSG\",\"8901\"]],UNIT[\"degree\",0.0174532925199433,AUTHORITY[\"EPSG\",\"9122\"]],AXIS[\"Latitude\",NORTH],AXIS[\"Longitude\",EAST],AUTHORITY[\"EPSG\",\"4326\"]]'), 'transform': Affine(0.00026949458523585647, 0.0, 77.56161960922043,\n",
            "       0.0, -0.00026949458523585647, 31.290207807979588)}\n"
          ]
        }
      ]
    },
    {
      "cell_type": "code",
      "source": [
        "logging.basicConfig(\n",
        "    level=logging.INFO,\n",
        "    format='%(asctime)s - %(levelname)s - %(message)s',\n",
        "    handlers=[\n",
        "        logging.FileHandler('resample_log.txt'),\n",
        "        logging.StreamHandler()\n",
        "    ]\n",
        ")\n",
        "logger = logging.getLogger(__name__)"
      ],
      "metadata": {
        "id": "8rMW7sgzueut"
      },
      "execution_count": 7,
      "outputs": []
    },
    {
      "cell_type": "code",
      "source": [
        "# @title Create Stacked Image\n",
        "weather_files = sorted(glob.glob(f\"{weather_dir}/era5_2016_*.tif\"))\n",
        "\n",
        "nodata_value = -9999\n",
        "\n",
        "if not weather_files:\n",
        "    print(\"No weather files found!\")\n",
        "    exit()\n",
        "\n",
        "# Get list of date strings\n",
        "date_strs = [os.path.basename(wf).replace('era5_2016_', '').replace('.tif', '') for wf in weather_files]\n",
        "logger.info(f\"Found {len(date_strs)} weather files to process.\")\n",
        "\n",
        "# Loop to process data\n",
        "for date_str in date_strs:\n",
        "    weather_path = os.path.join(weather_dir, f'era5_2016_{date_str}.tif')\n",
        "    fire_path = os.path.join(fire_mask_dir, f'fire_mask_2016_{date_str}.tif')\n",
        "\n",
        "    logger.info(f\"Processing date: {date_str}\")\n",
        "\n",
        "    if not os.path.exists(weather_path):\n",
        "        logger.warning(f\"Skipping {date_str}: weather missing at {weather_path}\")\n",
        "        continue\n",
        "\n",
        "    if not os.path.exists(fire_path):\n",
        "        logger.warning(f\"Skipping {date_str}: fire mask missing at {fire_path}\")\n",
        "        continue\n",
        "\n",
        "    # Load weather data (5 bands)\n",
        "    try:\n",
        "        logger.info(f\"Loading weather data: {weather_path}\")\n",
        "        with rasterio.open(weather_path) as w_src:\n",
        "            weather = w_src.read()  # Read all 5 bands\n",
        "            if weather.shape[0] != 5 or weather.shape[1:] != ref_shape:\n",
        "                raise ValueError(f\"Weather data shape {weather.shape} does not match reference shape {ref_shape}\")\n",
        "            logger.info(f\"Successfully loaded weather data: {weather_path}\")\n",
        "    except Exception as e:\n",
        "        logger.error(f\"Failed to load resampled weather data for {date_str}: {str(e)}\")\n",
        "        continue\n",
        "\n",
        "    # Load fire mask (1 band)\n",
        "    try:\n",
        "        logger.info(f\"Loading fire mask: {fire_path}\")\n",
        "        with rasterio.open(fire_path) as fm_src:\n",
        "            fire = fm_src.read(1)  # Read single band\n",
        "            if fire.shape != ref_shape:\n",
        "                raise ValueError(f\"Fire mask shape {fire.shape} does not match reference shape {ref_shape}\")\n",
        "            logger.info(f\"Successfully loaded fire mask: {fire_path}\")\n",
        "    except Exception as e:\n",
        "        logger.error(f\"Failed to load resampled fire mask for {date_str}: {str(e)}\")\n",
        "        continue\n",
        "\n",
        "    # Stack and save with logging\n",
        "    try:\n",
        "        logger.info(f\"Stacking data for date: {date_str}\")\n",
        "\n",
        "        # Fill masked arrays\n",
        "        slope_filled = slope.filled(nodata_value)\n",
        "        aspect_filled = aspect.filled(nodata_value)\n",
        "        fuel_filled = fuel.filled(nodata_value)\n",
        "        ghsl_filled = ghsl.filled(nodata_value)\n",
        "        fire_filled = fire  # Already a regular array\n",
        "\n",
        "        # Stack into one array (10 bands)\n",
        "        stacked = np.stack([\n",
        "            *weather,\n",
        "            slope_filled,\n",
        "            aspect_filled,\n",
        "            fuel_filled,\n",
        "            ghsl_filled,\n",
        "            fire_filled\n",
        "        ])\n",
        "\n",
        "        # Update metadata\n",
        "        ref_meta.update({\n",
        "            \"count\": 10,\n",
        "            \"dtype\": 'float32',\n",
        "            \"nodata\": nodata_value\n",
        "        })\n",
        "\n",
        "        # Save\n",
        "        out_path = os.path.join(output_dir, f'stack_2016_{date_str}.tif')\n",
        "        with rasterio.open(out_path, 'w', **ref_meta) as dst:\n",
        "            dst.write(stacked.astype('float32'))\n",
        "\n",
        "        logger.info(f\"Successfully saved stacked raster: {out_path}\")\n",
        "        print(f\"✅ Saved: {out_path}\")\n",
        "    except Exception as e:\n",
        "        logger.error(f\"Failed to stack or save data for {date_str}: {str(e)}\")\n",
        "        continue\n",
        "\n",
        "    w_src.close()\n",
        "    fm_src.close()\n",
        "\n",
        "s.close()\n",
        "a.close()\n",
        "f.close()\n",
        "g.close()\n",
        "\n",
        "logger.info(\"Processing complete.\")"
      ],
      "metadata": {
        "id": "hdTSYstcumjc"
      },
      "execution_count": null,
      "outputs": []
    }
  ]
}