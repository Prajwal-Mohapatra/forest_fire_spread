{
 "cells": [
  {
   "cell_type": "code",
   "execution_count": 1,
   "id": "388a910a-e683-4d3f-86af-ae6062c25af5",
   "metadata": {},
   "outputs": [],
   "source": [
    "# !pip install opendatasets --quiet"
   ]
  },
  {
   "cell_type": "code",
   "execution_count": 2,
   "id": "5cccc1bf-3964-4c39-852a-c697888870c5",
   "metadata": {},
   "outputs": [],
   "source": [
    "# # Not working on Google Colab, due to limited System RAM (12.7 GB) and our large dataset zip file (14 GB)\n",
    "# # Dataset already present on local device\n",
    "\n",
    "# import opendatasets as od\n",
    "# od.download(\"https://www.kaggle.com/datasets/prajwalmohapatra/stacked-fire-probability-prediction-dataset\")"
   ]
  },
  {
   "cell_type": "code",
   "execution_count": 3,
   "id": "2a01cb02-a2fb-43a3-9fa9-4cef0d826cc0",
   "metadata": {},
   "outputs": [],
   "source": [
    "# # model code already present on local device\n",
    "\n",
    "# !git clone git@github.com:Prajwal-Mohapatra/forest_fire_spread.git"
   ]
  },
  {
   "cell_type": "code",
   "execution_count": 2,
   "id": "bce9455a-6e1e-431b-9733-3120632a51ee",
   "metadata": {},
   "outputs": [
    {
     "name": "stdout",
     "output_type": "stream",
     "text": [
      "/home/swayam/projects/forest_fire_spread/fire_prediction_model\n"
     ]
    }
   ],
   "source": [
    "%cd fire_prediction_model"
   ]
  },
  {
   "cell_type": "code",
   "execution_count": 2,
   "id": "91d4c8c9-cb2e-473c-89df-6b59ce0bd388",
   "metadata": {},
   "outputs": [],
   "source": [
    "!pip install -r requirements.txt --quiet"
   ]
  },
  {
   "cell_type": "code",
   "execution_count": null,
   "id": "e764211b-6dcb-410e-a5f7-2d498f96849b",
   "metadata": {},
   "outputs": [],
   "source": [
    "!python train.py"
   ]
  },
  {
   "cell_type": "code",
   "execution_count": 5,
   "id": "bc478e9b",
   "metadata": {},
   "outputs": [
    {
     "name": "stdout",
     "output_type": "stream",
     "text": [
      "2025-07-05 16:10:44.316092: I tensorflow/core/platform/cpu_feature_guard.cc:193] This TensorFlow binary is optimized with oneAPI Deep Neural Network Library (oneDNN) to use the following CPU instructions in performance-critical operations:  SSE4.1 SSE4.2 AVX AVX2 FMA\n",
      "To enable them in other operations, rebuild TensorFlow with the appropriate compiler flags.\n",
      "=== FIRE PROBABILITY MAP GENERATION ===\n",
      "This system generates probability maps showing fire risk across the landscape.\n",
      "\n",
      "🔥 Generating Fire Probability Map\n",
      "   Input: ../fire-probability-prediction-map-unstacked-data/dataset_stacked/stack_2016_05_23.tif\n",
      "   Output: outputs/predictions/fire_probability_map_final.tif\n",
      "=== FIRE PROBABILITY MAP GENERATION ===\n",
      "This system generates probability maps showing fire risk across the landscape.\n",
      "\n",
      "🔥 Generating Fire Probability Map\n",
      "   Input: ../fire-probability-prediction-map-unstacked-data/dataset_stacked/stack_2016_05_23.tif\n",
      "   Output: outputs/predictions/fire_probability_map_final.tif\n",
      "2025-07-05 16:10:47.210304: I tensorflow/stream_executor/cuda/cuda_gpu_executor.cc:980] successful NUMA node read from SysFS had negative value (-1), but there must be at least one NUMA node, so returning NUMA node zero\n",
      "2025-07-05 16:10:47.210304: I tensorflow/stream_executor/cuda/cuda_gpu_executor.cc:980] successful NUMA node read from SysFS had negative value (-1), but there must be at least one NUMA node, so returning NUMA node zero\n",
      "2025-07-05 16:10:47.262488: I tensorflow/stream_executor/cuda/cuda_gpu_executor.cc:980] successful NUMA node read from SysFS had negative value (-1), but there must be at least one NUMA node, so returning NUMA node zero\n",
      "2025-07-05 16:10:47.263077: I tensorflow/stream_executor/cuda/cuda_gpu_executor.cc:980] successful NUMA node read from SysFS had negative value (-1), but there must be at least one NUMA node, so returning NUMA node zero\n",
      "2025-07-05 16:10:47.263703: I tensorflow/core/platform/cpu_feature_guard.cc:193] This TensorFlow binary is optimized with oneAPI Deep Neural Network Library (oneDNN) to use the following CPU instructions in performance-critical operations:  SSE4.1 SSE4.2 AVX AVX2 FMA\n",
      "To enable them in other operations, rebuild TensorFlow with the appropriate compiler flags.\n",
      "2025-07-05 16:10:47.265089: I tensorflow/stream_executor/cuda/cuda_gpu_executor.cc:980] successful NUMA node read from SysFS had negative value (-1), but there must be at least one NUMA node, so returning NUMA node zero\n",
      "2025-07-05 16:10:47.265677: I tensorflow/stream_executor/cuda/cuda_gpu_executor.cc:980] successful NUMA node read from SysFS had negative value (-1), but there must be at least one NUMA node, so returning NUMA node zero\n",
      "2025-07-05 16:10:47.266154: I tensorflow/stream_executor/cuda/cuda_gpu_executor.cc:980] successful NUMA node read from SysFS had negative value (-1), but there must be at least one NUMA node, so returning NUMA node zero\n",
      "2025-07-05 16:10:47.262488: I tensorflow/stream_executor/cuda/cuda_gpu_executor.cc:980] successful NUMA node read from SysFS had negative value (-1), but there must be at least one NUMA node, so returning NUMA node zero\n",
      "2025-07-05 16:10:47.263077: I tensorflow/stream_executor/cuda/cuda_gpu_executor.cc:980] successful NUMA node read from SysFS had negative value (-1), but there must be at least one NUMA node, so returning NUMA node zero\n",
      "2025-07-05 16:10:47.263703: I tensorflow/core/platform/cpu_feature_guard.cc:193] This TensorFlow binary is optimized with oneAPI Deep Neural Network Library (oneDNN) to use the following CPU instructions in performance-critical operations:  SSE4.1 SSE4.2 AVX AVX2 FMA\n",
      "To enable them in other operations, rebuild TensorFlow with the appropriate compiler flags.\n",
      "2025-07-05 16:10:47.265089: I tensorflow/stream_executor/cuda/cuda_gpu_executor.cc:980] successful NUMA node read from SysFS had negative value (-1), but there must be at least one NUMA node, so returning NUMA node zero\n",
      "2025-07-05 16:10:47.265677: I tensorflow/stream_executor/cuda/cuda_gpu_executor.cc:980] successful NUMA node read from SysFS had negative value (-1), but there must be at least one NUMA node, so returning NUMA node zero\n",
      "2025-07-05 16:10:47.266154: I tensorflow/stream_executor/cuda/cuda_gpu_executor.cc:980] successful NUMA node read from SysFS had negative value (-1), but there must be at least one NUMA node, so returning NUMA node zero\n",
      "2025-07-05 16:10:47.400680: I tensorflow/stream_executor/cuda/cuda_gpu_executor.cc:980] successful NUMA node read from SysFS had negative value (-1), but there must be at least one NUMA node, so returning NUMA node zero\n",
      "2025-07-05 16:10:47.401081: I tensorflow/stream_executor/cuda/cuda_gpu_executor.cc:980] successful NUMA node read from SysFS had negative value (-1), but there must be at least one NUMA node, so returning NUMA node zero\n",
      "2025-07-05 16:10:47.401418: I tensorflow/stream_executor/cuda/cuda_gpu_executor.cc:980] successful NUMA node read from SysFS had negative value (-1), but there must be at least one NUMA node, so returning NUMA node zero\n",
      "2025-07-05 16:10:47.401677: I tensorflow/core/common_runtime/gpu/gpu_device.cc:1616] Created device /job:localhost/replica:0/task:0/device:GPU:0 with 2791 MB memory:  -> device: 0, name: NVIDIA GeForce GTX 1650 Ti, pci bus id: 0000:01:00.0, compute capability: 7.5\n",
      "2025-07-05 16:10:47.400680: I tensorflow/stream_executor/cuda/cuda_gpu_executor.cc:980] successful NUMA node read from SysFS had negative value (-1), but there must be at least one NUMA node, so returning NUMA node zero\n",
      "2025-07-05 16:10:47.401081: I tensorflow/stream_executor/cuda/cuda_gpu_executor.cc:980] successful NUMA node read from SysFS had negative value (-1), but there must be at least one NUMA node, so returning NUMA node zero\n",
      "2025-07-05 16:10:47.401418: I tensorflow/stream_executor/cuda/cuda_gpu_executor.cc:980] successful NUMA node read from SysFS had negative value (-1), but there must be at least one NUMA node, so returning NUMA node zero\n",
      "2025-07-05 16:10:47.401677: I tensorflow/core/common_runtime/gpu/gpu_device.cc:1616] Created device /job:localhost/replica:0/task:0/device:GPU:0 with 2791 MB memory:  -> device: 0, name: NVIDIA GeForce GTX 1650 Ti, pci bus id: 0000:01:00.0, compute capability: 7.5\n",
      "✅ Reconstructed exact training model - 140 layers\n",
      "   Loading weights: outputs/checkpoints/model_best.weights.h5\n",
      "✅ Reconstructed exact training model - 140 layers\n",
      "   Loading weights: outputs/checkpoints/model_best.weights.h5\n",
      "✅ Weights loaded successfully (with skip_mismatch)\n",
      "✅ Weights loaded successfully (with skip_mismatch)\n",
      "   Processing 9551x12917 image...\n",
      "Predicting patches:   0%|                              | 0/1938 [00:00<?, ?it/s]   Processing 9551x12917 image...\n",
      "Predicting patches:   0%|                              | 0/1938 [00:00<?, ?it/s]2025-07-05 16:10:55.385200: I tensorflow/stream_executor/cuda/cuda_dnn.cc:384] Loaded cuDNN version 8907\n",
      "2025-07-05 16:10:55.385200: I tensorflow/stream_executor/cuda/cuda_dnn.cc:384] Loaded cuDNN version 8907\n",
      "2025-07-05 16:10:56.040614: W tensorflow/core/common_runtime/bfc_allocator.cc:290] Allocator (GPU_0_bfc) ran out of memory trying to allocate 4.08GiB with freed_by_count=0. The caller indicates that this is not a failure, but this may mean that there could be performance gains if more memory were available.\n",
      "2025-07-05 16:10:56.040614: W tensorflow/core/common_runtime/bfc_allocator.cc:290] Allocator (GPU_0_bfc) ran out of memory trying to allocate 4.08GiB with freed_by_count=0. The caller indicates that this is not a failure, but this may mean that there could be performance gains if more memory were available.\n",
      "2025-07-05 16:10:56.258897: W tensorflow/core/common_runtime/bfc_allocator.cc:290] Allocator (GPU_0_bfc) ran out of memory trying to allocate 4.09GiB with freed_by_count=0. The caller indicates that this is not a failure, but this may mean that there could be performance gains if more memory were available.\n",
      "2025-07-05 16:10:56.258897: W tensorflow/core/common_runtime/bfc_allocator.cc:290] Allocator (GPU_0_bfc) ran out of memory trying to allocate 4.09GiB with freed_by_count=0. The caller indicates that this is not a failure, but this may mean that there could be performance gains if more memory were available.\n",
      "2025-07-05 16:10:56.484766: W tensorflow/core/common_runtime/bfc_allocator.cc:290] Allocator (GPU_0_bfc) ran out of memory trying to allocate 4.15GiB with freed_by_count=0. The caller indicates that this is not a failure, but this may mean that there could be performance gains if more memory were available.\n",
      "2025-07-05 16:10:56.484766: W tensorflow/core/common_runtime/bfc_allocator.cc:290] Allocator (GPU_0_bfc) ran out of memory trying to allocate 4.15GiB with freed_by_count=0. The caller indicates that this is not a failure, but this may mean that there could be performance gains if more memory were available.\n",
      "2025-07-05 16:10:57.113132: W tensorflow/core/common_runtime/bfc_allocator.cc:290] Allocator (GPU_0_bfc) ran out of memory trying to allocate 3.04GiB with freed_by_count=0. The caller indicates that this is not a failure, but this may mean that there could be performance gains if more memory were available.\n",
      "2025-07-05 16:10:57.113132: W tensorflow/core/common_runtime/bfc_allocator.cc:290] Allocator (GPU_0_bfc) ran out of memory trying to allocate 3.04GiB with freed_by_count=0. The caller indicates that this is not a failure, but this may mean that there could be performance gains if more memory were available.\n",
      "2025-07-05 16:10:57.439248: W tensorflow/core/common_runtime/bfc_allocator.cc:290] Allocator (GPU_0_bfc) ran out of memory trying to allocate 4.16GiB with freed_by_count=0. The caller indicates that this is not a failure, but this may mean that there could be performance gains if more memory were available.\n",
      "2025-07-05 16:10:57.439248: W tensorflow/core/common_runtime/bfc_allocator.cc:290] Allocator (GPU_0_bfc) ran out of memory trying to allocate 4.16GiB with freed_by_count=0. The caller indicates that this is not a failure, but this may mean that there could be performance gains if more memory were available.\n",
      "2025-07-05 16:10:57.607649: W tensorflow/core/common_runtime/bfc_allocator.cc:290] Allocator (GPU_0_bfc) ran out of memory trying to allocate 4.28GiB with freed_by_count=0. The caller indicates that this is not a failure, but this may mean that there could be performance gains if more memory were available.\n",
      "2025-07-05 16:10:57.607649: W tensorflow/core/common_runtime/bfc_allocator.cc:290] Allocator (GPU_0_bfc) ran out of memory trying to allocate 4.28GiB with freed_by_count=0. The caller indicates that this is not a failure, but this may mean that there could be performance gains if more memory were available.\n",
      "2025-07-05 16:10:57.776197: W tensorflow/core/common_runtime/bfc_allocator.cc:290] Allocator (GPU_0_bfc) ran out of memory trying to allocate 3.22GiB with freed_by_count=0. The caller indicates that this is not a failure, but this may mean that there could be performance gains if more memory were available.\n",
      "2025-07-05 16:10:57.776197: W tensorflow/core/common_runtime/bfc_allocator.cc:290] Allocator (GPU_0_bfc) ran out of memory trying to allocate 3.22GiB with freed_by_count=0. The caller indicates that this is not a failure, but this may mean that there could be performance gains if more memory were available.\n",
      "2025-07-05 16:10:57.848837: W tensorflow/core/common_runtime/bfc_allocator.cc:290] Allocator (GPU_0_bfc) ran out of memory trying to allocate 6.41GiB with freed_by_count=0. The caller indicates that this is not a failure, but this may mean that there could be performance gains if more memory were available.\n",
      "2025-07-05 16:10:57.848837: W tensorflow/core/common_runtime/bfc_allocator.cc:290] Allocator (GPU_0_bfc) ran out of memory trying to allocate 6.41GiB with freed_by_count=0. The caller indicates that this is not a failure, but this may mean that there could be performance gains if more memory were available.\n",
      "2025-07-05 16:10:57.905674: W tensorflow/core/common_runtime/bfc_allocator.cc:290] Allocator (GPU_0_bfc) ran out of memory trying to allocate 4.16GiB with freed_by_count=0. The caller indicates that this is not a failure, but this may mean that there could be performance gains if more memory were available.\n",
      "2025-07-05 16:10:57.905674: W tensorflow/core/common_runtime/bfc_allocator.cc:290] Allocator (GPU_0_bfc) ran out of memory trying to allocate 4.16GiB with freed_by_count=0. The caller indicates that this is not a failure, but this may mean that there could be performance gains if more memory were available.\n",
      "2025-07-05 16:10:58.221060: W tensorflow/core/common_runtime/bfc_allocator.cc:290] Allocator (GPU_0_bfc) ran out of memory trying to allocate 6.23GiB with freed_by_count=0. The caller indicates that this is not a failure, but this may mean that there could be performance gains if more memory were available.\n",
      "2025-07-05 16:10:58.221060: W tensorflow/core/common_runtime/bfc_allocator.cc:290] Allocator (GPU_0_bfc) ran out of memory trying to allocate 6.23GiB with freed_by_count=0. The caller indicates that this is not a failure, but this may mean that there could be performance gains if more memory were available.\n",
      "Predicting patches:   2%|▍                    | 44/1938 [00:08<06:22,  4.95it/s]\n",
      "Traceback (most recent call last):\n",
      "  File \"/home/swayam/projects/forest_fire_spread/fire_prediction_model/fire_predictor.py\", line 348, in <module>\n",
      "    main()\n",
      "  File \"/home/swayam/projects/forest_fire_spread/fire_prediction_model/fire_predictor.py\", line 335, in main\n",
      "    success = predict_fire_probability_map(\n",
      "  File \"/home/swayam/projects/forest_fire_spread/fire_prediction_model/fire_predictor.py\", line 270, in predict_fire_probability_map\n",
      "    pred = model.predict(np.expand_dims(patch_normalized, 0), verbose=0)[0, :, :, 0]\n",
      "  File \"/home/swayam/miniconda3/envs/forest_fire/lib/python3.9/site-packages/keras/utils/traceback_utils.py\", line 65, in error_handler\n",
      "    return fn(*args, **kwargs)\n",
      "  File \"/home/swayam/miniconda3/envs/forest_fire/lib/python3.9/site-packages/keras/engine/training.py\", line 2297, in predict\n",
      "    return tf_utils.sync_to_numpy_or_python_type(all_outputs)\n",
      "  File \"/home/swayam/miniconda3/envs/forest_fire/lib/python3.9/site-packages/keras/utils/tf_utils.py\", line 635, in sync_to_numpy_or_python_type\n",
      "    return tf.nest.map_structure(_to_single_numpy_or_python_type, tensors)\n",
      "  File \"/home/swayam/miniconda3/envs/forest_fire/lib/python3.9/site-packages/tensorflow/python/util/nest.py\", line 917, in map_structure\n",
      "    structure[0], [func(*x) for x in entries],\n",
      "  File \"/home/swayam/miniconda3/envs/forest_fire/lib/python3.9/site-packages/tensorflow/python/util/nest.py\", line 917, in <listcomp>\n",
      "    structure[0], [func(*x) for x in entries],\n",
      "  File \"/home/swayam/miniconda3/envs/forest_fire/lib/python3.9/site-packages/keras/utils/tf_utils.py\", line 628, in _to_single_numpy_or_python_type\n",
      "    t = t.numpy()\n",
      "  File \"/home/swayam/miniconda3/envs/forest_fire/lib/python3.9/site-packages/tensorflow/python/framework/ops.py\", line 1157, in numpy\n",
      "    maybe_arr = self._numpy()  # pylint: disable=protected-access\n",
      "  File \"/home/swayam/miniconda3/envs/forest_fire/lib/python3.9/site-packages/tensorflow/python/framework/ops.py\", line 1123, in _numpy\n",
      "    return self._numpy_internal()\n",
      "KeyboardInterrupt\n",
      "^C\n",
      "Predicting patches:   2%|▍                    | 44/1938 [00:08<06:22,  4.95it/s]\n",
      "Traceback (most recent call last):\n",
      "  File \"/home/swayam/projects/forest_fire_spread/fire_prediction_model/fire_predictor.py\", line 348, in <module>\n",
      "    main()\n",
      "  File \"/home/swayam/projects/forest_fire_spread/fire_prediction_model/fire_predictor.py\", line 335, in main\n",
      "    success = predict_fire_probability_map(\n",
      "  File \"/home/swayam/projects/forest_fire_spread/fire_prediction_model/fire_predictor.py\", line 270, in predict_fire_probability_map\n",
      "    pred = model.predict(np.expand_dims(patch_normalized, 0), verbose=0)[0, :, :, 0]\n",
      "  File \"/home/swayam/miniconda3/envs/forest_fire/lib/python3.9/site-packages/keras/utils/traceback_utils.py\", line 65, in error_handler\n",
      "    return fn(*args, **kwargs)\n",
      "  File \"/home/swayam/miniconda3/envs/forest_fire/lib/python3.9/site-packages/keras/engine/training.py\", line 2297, in predict\n",
      "    return tf_utils.sync_to_numpy_or_python_type(all_outputs)\n",
      "  File \"/home/swayam/miniconda3/envs/forest_fire/lib/python3.9/site-packages/keras/utils/tf_utils.py\", line 635, in sync_to_numpy_or_python_type\n",
      "    return tf.nest.map_structure(_to_single_numpy_or_python_type, tensors)\n",
      "  File \"/home/swayam/miniconda3/envs/forest_fire/lib/python3.9/site-packages/tensorflow/python/util/nest.py\", line 917, in map_structure\n",
      "    structure[0], [func(*x) for x in entries],\n",
      "  File \"/home/swayam/miniconda3/envs/forest_fire/lib/python3.9/site-packages/tensorflow/python/util/nest.py\", line 917, in <listcomp>\n",
      "    structure[0], [func(*x) for x in entries],\n",
      "  File \"/home/swayam/miniconda3/envs/forest_fire/lib/python3.9/site-packages/keras/utils/tf_utils.py\", line 628, in _to_single_numpy_or_python_type\n",
      "    t = t.numpy()\n",
      "  File \"/home/swayam/miniconda3/envs/forest_fire/lib/python3.9/site-packages/tensorflow/python/framework/ops.py\", line 1157, in numpy\n",
      "    maybe_arr = self._numpy()  # pylint: disable=protected-access\n",
      "  File \"/home/swayam/miniconda3/envs/forest_fire/lib/python3.9/site-packages/tensorflow/python/framework/ops.py\", line 1123, in _numpy\n",
      "    return self._numpy_internal()\n",
      "KeyboardInterrupt\n",
      "^C\n"
     ]
    }
   ],
   "source": [
    "!python fire_predictor.py"
   ]
  }
 ],
 "metadata": {
  "kernelspec": {
   "display_name": "forest_fire",
   "language": "python",
   "name": "python3"
  },
  "language_info": {
   "codemirror_mode": {
    "name": "ipython",
    "version": 3
   },
   "file_extension": ".py",
   "mimetype": "text/x-python",
   "name": "python",
   "nbconvert_exporter": "python",
   "pygments_lexer": "ipython3",
   "version": "3.9.15"
  }
 },
 "nbformat": 4,
 "nbformat_minor": 5
}
