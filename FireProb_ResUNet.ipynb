{
 "cells": [
  {
   "cell_type": "code",
   "execution_count": 1,
   "id": "388a910a-e683-4d3f-86af-ae6062c25af5",
   "metadata": {},
   "outputs": [],
   "source": [
    "# !pip install opendatasets --quiet"
   ]
  },
  {
   "cell_type": "code",
   "execution_count": 2,
   "id": "5cccc1bf-3964-4c39-852a-c697888870c5",
   "metadata": {},
   "outputs": [],
   "source": [
    "# # Not working on Google Colab, due to limited System RAM (12.7 GB) and our large dataset zip file (14 GB)\n",
    "# # Dataset already present on local device\n",
    "\n",
    "# import opendatasets as od\n",
    "# od.download(\"https://www.kaggle.com/datasets/prajwalmohapatra/stacked-fire-probability-prediction-dataset\")"
   ]
  },
  {
   "cell_type": "code",
   "execution_count": 3,
   "id": "2a01cb02-a2fb-43a3-9fa9-4cef0d826cc0",
   "metadata": {},
   "outputs": [],
   "source": [
    "# # model code already present on local device\n",
    "\n",
    "# !git clone git@github.com:Prajwal-Mohapatra/forest_fire_spread.git"
   ]
  },
  {
   "cell_type": "code",
   "execution_count": 1,
   "id": "bce9455a-6e1e-431b-9733-3120632a51ee",
   "metadata": {},
   "outputs": [
    {
     "name": "stdout",
     "output_type": "stream",
     "text": [
      "/home/swayam/projects/forest_fire_spread/fire_prediction_model\n"
     ]
    }
   ],
   "source": [
    "%cd fire_prediction_model"
   ]
  },
  {
   "cell_type": "code",
   "execution_count": 2,
   "id": "91d4c8c9-cb2e-473c-89df-6b59ce0bd388",
   "metadata": {},
   "outputs": [],
   "source": [
    "!pip install -r requirements.txt --quiet"
   ]
  },
  {
   "cell_type": "code",
   "execution_count": 5,
   "id": "e764211b-6dcb-410e-a5f7-2d498f96849b",
   "metadata": {},
   "outputs": [
    {
     "name": "stdout",
     "output_type": "stream",
     "text": [
      "2025-07-05 12:43:43.248137: I tensorflow/core/platform/cpu_feature_guard.cc:193] This TensorFlow binary is optimized with oneAPI Deep Neural Network Library (oneDNN) to use the following CPU instructions in performance-critical operations:  SSE4.1 SSE4.2 AVX AVX2 FMA\n",
      "To enable them in other operations, rebuild TensorFlow with the appropriate compiler flags.\n",
      "2025-07-05 12:43:45.965001: I tensorflow/stream_executor/cuda/cuda_gpu_executor.cc:980] successful NUMA node read from SysFS had negative value (-1), but there must be at least one NUMA node, so returning NUMA node zero\n",
      "2025-07-05 12:43:46.013454: I tensorflow/stream_executor/cuda/cuda_gpu_executor.cc:980] successful NUMA node read from SysFS had negative value (-1), but there must be at least one NUMA node, so returning NUMA node zero\n",
      "2025-07-05 12:43:46.014569: I tensorflow/stream_executor/cuda/cuda_gpu_executor.cc:980] successful NUMA node read from SysFS had negative value (-1), but there must be at least one NUMA node, so returning NUMA node zero\n",
      "✅ Configured 1 GPU(s) with memory growth\n",
      "📋 Loaded training configuration\n",
      "Found 30 training files\n",
      "Found 7 validation files\n",
      "Found 7 test files\n",
      "^C\n",
      "Traceback (most recent call last):\n",
      "  File \"/home/swayam/projects/forest_fire_spread/fire_prediction_model/train.py\", line 110, in <module>\n",
      "    train_gen = FireDatasetGenerator(\n",
      "  File \"/home/swayam/projects/forest_fire_spread/fire_prediction_model/dataset/loader.py\", line 27, in __init__\n",
      "    self.samples = self._generate_patch_coords()\n",
      "  File \"/home/swayam/projects/forest_fire_spread/fire_prediction_model/dataset/loader.py\", line 40, in _generate_patch_coords\n",
      "    fire_data = src.read(10)  # Fire mask is band 10\n",
      "KeyboardInterrupt\n"
     ]
    }
   ],
   "source": [
    "!python train.py"
   ]
  }
 ],
 "metadata": {
  "kernelspec": {
   "display_name": "forest_fire",
   "language": "python",
   "name": "python3"
  },
  "language_info": {
   "codemirror_mode": {
    "name": "ipython",
    "version": 3
   },
   "file_extension": ".py",
   "mimetype": "text/x-python",
   "name": "python",
   "nbconvert_exporter": "python",
   "pygments_lexer": "ipython3",
   "version": "3.9.15"
  }
 },
 "nbformat": 4,
 "nbformat_minor": 5
}
